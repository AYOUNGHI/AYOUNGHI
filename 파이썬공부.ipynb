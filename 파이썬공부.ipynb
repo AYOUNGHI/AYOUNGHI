{
  "nbformat": 4,
  "nbformat_minor": 0,
  "metadata": {
    "colab": {
      "name": "파이썬공부.ipynb",
      "provenance": [],
      "authorship_tag": "ABX9TyMsFjdVh+gxZQVWeZzUV+SE",
      "include_colab_link": true
    },
    "kernelspec": {
      "name": "python3",
      "display_name": "Python 3"
    },
    "language_info": {
      "name": "python"
    }
  },
  "cells": [
    {
      "cell_type": "markdown",
      "metadata": {
        "id": "view-in-github",
        "colab_type": "text"
      },
      "source": [
        "<a href=\"https://colab.research.google.com/github/AYOUNGHI/AYOUNGHI/blob/main/%ED%8C%8C%EC%9D%B4%EC%8D%AC%EA%B3%B5%EB%B6%80.ipynb\" target=\"_parent\"><img src=\"https://colab.research.google.com/assets/colab-badge.svg\" alt=\"Open In Colab\"/></a>"
      ]
    },
    {
      "cell_type": "code",
      "execution_count": null,
      "metadata": {
        "id": "8iINE9DSv7iD"
      },
      "outputs": [],
      "source": [
        ""
      ]
    },
    {
      "cell_type": "markdown",
      "source": [
        "# **1. 파이썬 기반의 머신러닝과 생태계 이해**\n",
        "\n",
        "### **1) 머신러닝의 개념**\n",
        "\n",
        "\n",
        "\n",
        "> 애플리케이션을 수정하지 않고도 데이터를 기반으로 패턴을 학습하고 결과를 예측하는 알고리즘 기법\n",
        "\n",
        "> 데이터를 기반으로 통계적인 신뢰도를 강화하고 예측 오류를 최소화하기 위한 다양한 수학적 기법을 적용해 데이터 내의 패턴을 스스로 인지하고 신뢰도 있는 예측 겨로가를 도출해 내게 함\n",
        "\n",
        "> **머신러닝의 분류**\n",
        "\n",
        "> \n",
        "\n",
        "*   지도학습\n",
        ">> \n",
        "\n",
        "1.   분류\n",
        "2.   회귀\n",
        "3. 추천 시스템\n",
        "4. 시각/음성 감지/인지\n",
        "5. 텍스트 분석,NLP\n",
        "\n",
        "\n",
        "*   비지도 학습\n",
        "1. 클러스터링\n",
        "2. 차원 축소\n",
        "3. 강화학습\n",
        "\n",
        "> **데이터 전쟁**\n",
        "\n",
        "> 데이터에 매우 의존적인 머신러닝 -> 데이터를 이해하고 효율적으로 가공, 처리, 추출해 최적의 데이터를 기반으로 알고리즘을 구동할 수 있도록 준비하는 능력 중요 -> 다양하고 광대한 데이터=좋은 품질의 머신러닝 모델!\n",
        "\n",
        "> **파이썬과 R 기반의 머신러닝 비교**\n",
        "\n",
        "> R은 통계 전용 프로그램 -> 통계 전문가들에게 추천\n",
        "> 파이썬은 다양한 영역에서 사용되는 개발 전문 프로그램 언어 -> 소리 없이 프로그래밍 세계를 점령하고 있는 언어!\n",
        "\n",
        "### **2) 파이썬 머신러닝 생태계를 구성하는 주요 패키지**\n",
        "> \n",
        "\n",
        "1.   머신러닝 패키지\n",
        "> 사이킷런\n",
        "2.   행렬/선형대수/통계 패키지\n",
        "> 넘파이 \n",
        "3. 데이터 핸들링\n",
        "> 판다스, 맷플롯립(시각화)\n",
        "4. 시각화\n",
        ">맷플롯립, 시본\n",
        "\n",
        "\n",
        "### **3) 넘파이**\n",
        "\n",
        "**넘파이 ndarray개요**\n",
        "\n",
        "패키지 입력\n",
        "\n",
        "\n",
        "\n",
        "\n"
      ],
      "metadata": {
        "id": "h8kVG-4VwB9A"
      }
    },
    {
      "cell_type": "code",
      "source": [
        "import numpy as np"
      ],
      "metadata": {
        "id": "ExgM84vy3hSJ"
      },
      "execution_count": 1,
      "outputs": []
    },
    {
      "cell_type": "markdown",
      "source": [
        "array 함수 이용"
      ],
      "metadata": {
        "id": "KE18jPKwv9od"
      }
    },
    {
      "cell_type": "code",
      "source": [
        "array1=np.array([1,2,3])\n",
        "print('array1 type',type(array1))\n",
        "print('array1 array 형태:',array1.shape)\n",
        "\n",
        "array2=np.array([[1,2,3],\n",
        "                 [2,3,4]])\n",
        "print('array2 type:',type(array2))\n",
        "print('array2 array 형태:',array2.shape)\n",
        "\n",
        "array3=np.array([1,2,3])\n",
        "print('array3 type',type(array3))\n",
        "print('array3 array 형태:',array3.shape)\n"
      ],
      "metadata": {
        "colab": {
          "base_uri": "https://localhost:8080/"
        },
        "id": "Dg7gbGO-v-j3",
        "outputId": "e19c32e1-b5b4-496a-cf42-b36d7e6270b2"
      },
      "execution_count": 6,
      "outputs": [
        {
          "output_type": "stream",
          "name": "stdout",
          "text": [
            "array1 type <class 'numpy.ndarray'>\n",
            "array1 array 형태: (3,)\n",
            "array2 type: <class 'numpy.ndarray'>\n",
            "array2 array 형태: (2, 3)\n",
            "array3 type <class 'numpy.ndarray'>\n",
            "array3 array 형태: (3,)\n"
          ]
        }
      ]
    },
    {
      "cell_type": "markdown",
      "source": [
        "array 차원을 ndarray.dim이용해 확인하기"
      ],
      "metadata": {
        "id": "mA57ug2O4-Ag"
      }
    },
    {
      "cell_type": "code",
      "source": [
        "print('array1: {:0}차원, array2: {:1}차원, array3: {:2}차원'.format(array1.ndim,array2.ndim,array3.ndim))"
      ],
      "metadata": {
        "colab": {
          "base_uri": "https://localhost:8080/"
        },
        "id": "ar2Ebzv85BIo",
        "outputId": "a68943fb-ced2-4ee5-d62c-200261d98e4c"
      },
      "execution_count": 8,
      "outputs": [
        {
          "output_type": "stream",
          "name": "stdout",
          "text": [
            "array1: 1차원, array2: 2차원, array3:  1차원\n"
          ]
        }
      ]
    },
    {
      "cell_type": "markdown",
      "source": [
        "**ndarray의 데이터 타입**\n",
        "\n",
        "\n",
        "숫자, 문자열, 불 값 모두 가능\n",
        "한 객체에 같은 데이터 타입만 가능\n"
      ],
      "metadata": {
        "id": "jkEWVSZP5XXu"
      }
    },
    {
      "cell_type": "code",
      "source": [
        "list1=[1,2,3]\n",
        "print(type(list1))\n",
        "array1=np.array(list1)\n",
        "print(type(array1))\n",
        "print(array1,array1.dtype)"
      ],
      "metadata": {
        "colab": {
          "base_uri": "https://localhost:8080/"
        },
        "id": "WejQ_fUu5iVI",
        "outputId": "e5157d5c-0311-4ff5-fdf0-0bae064b8320"
      },
      "execution_count": 9,
      "outputs": [
        {
          "output_type": "stream",
          "name": "stdout",
          "text": [
            "<class 'list'>\n",
            "<class 'numpy.ndarray'>\n",
            "[1 2 3] int64\n"
          ]
        }
      ]
    },
    {
      "cell_type": "markdown",
      "source": [
        "다른 데이터 유형이 섞인 경우 ndarray 이용하기"
      ],
      "metadata": {
        "id": "ucZ3r_ir58po"
      }
    },
    {
      "cell_type": "code",
      "source": [
        "list2=[1,2,'test']\n",
        "array2=np.array(list2)\n",
        "print(array2,array2.dtype)\n",
        "\n",
        "list3=[1,2,3.0]\n",
        "array3=np.array(list3)\n",
        "print(array3,array3.dtype)"
      ],
      "metadata": {
        "colab": {
          "base_uri": "https://localhost:8080/"
        },
        "id": "M4zhhjHd6GZb",
        "outputId": "cf0c6e6a-8cc1-452d-efc7-d5e00d802674"
      },
      "execution_count": 11,
      "outputs": [
        {
          "output_type": "stream",
          "name": "stdout",
          "text": [
            "['1' '2' 'test'] <U21\n",
            "[1. 2. 3.] float64\n"
          ]
        }
      ]
    },
    {
      "cell_type": "code",
      "source": [
        "array_int=np.array([1,2,3])\n",
        "array_float=array_int.astype('float64')\n",
        "print(array_float,array_float.dtype)\n",
        "\n",
        "array_int1=array_float.astype('int32')\n",
        "print(array_int1,array_int1.dtype)\n",
        "\n",
        "array_float1=np.array([1.1,2.1,3.1])\n",
        "array_int2=array_float.astype('int32')\n",
        "print(array_int2,array_int2.dtype)\n"
      ],
      "metadata": {
        "colab": {
          "base_uri": "https://localhost:8080/"
        },
        "id": "jl_EKSKr8bBd",
        "outputId": "34d98885-12c4-4256-a78c-92e4c0070d89"
      },
      "execution_count": 12,
      "outputs": [
        {
          "output_type": "stream",
          "name": "stdout",
          "text": [
            "[1. 2. 3.] float64\n",
            "[1 2 3] int32\n",
            "[1 2 3] int32\n"
          ]
        }
      ]
    },
    {
      "cell_type": "markdown",
      "source": [
        "**ndarray를 편리하게 생성하기-arange,zeros,ones**\n"
      ],
      "metadata": {
        "id": "wqA27OJz85l3"
      }
    },
    {
      "cell_type": "code",
      "source": [
        "sequence_array=np.arange(10)\n",
        "print(sequence_array)\n",
        "print(sequence_array.dtype,sequence_array.shape)"
      ],
      "metadata": {
        "colab": {
          "base_uri": "https://localhost:8080/"
        },
        "id": "tL9rnjXK9Djf",
        "outputId": "a59ead9f-2a2d-4a91-a957-647213936b8d"
      },
      "execution_count": 14,
      "outputs": [
        {
          "output_type": "stream",
          "name": "stdout",
          "text": [
            "[0 1 2 3 4 5 6 7 8 9]\n",
            "int64 (10,)\n"
          ]
        }
      ]
    },
    {
      "cell_type": "markdown",
      "source": [
        "default함수 인자는 stop 값이며, 0부터 stop값인 10에서 -1을 더한 9까지의 연속 숫자 값으로 구성된 1차원 ndarray를 만듦\n",
        "\n",
        "zeros()는 함수 인자로 튜플 형태의 shape 값을 입력하면 모든 값을 0으로 채운 해당 shape를 가진 ndarray 반환해줌\n",
        "\n",
        "유사하게 ones()는 함수 인자로 튜플 형태의 shape 값을 입력하면 모든 값을 1로 채운 해당 shape를 가진 ndarray를 반환\n",
        "\n"
      ],
      "metadata": {
        "id": "1bEz42JQ9pDc"
      }
    },
    {
      "cell_type": "code",
      "source": [
        "zero_array=np.zeros((3,2),dtype='int32')\n",
        "print(zero_array)\n",
        "print(zero_array.dtype,zero_array.shape)\n",
        "\n",
        "one_array=np.ones((3,2))\n",
        "print(one_array)\n",
        "print(one_array.dtype,one_array.shape)"
      ],
      "metadata": {
        "colab": {
          "base_uri": "https://localhost:8080/"
        },
        "id": "yON82uvP-Nj7",
        "outputId": "df2131be-309e-443b-bd60-beab98a3a02d"
      },
      "execution_count": 15,
      "outputs": [
        {
          "output_type": "stream",
          "name": "stdout",
          "text": [
            "[[0 0]\n",
            " [0 0]\n",
            " [0 0]]\n",
            "int32 (3, 2)\n",
            "[[1. 1.]\n",
            " [1. 1.]\n",
            " [1. 1.]]\n",
            "float64 (3, 2)\n"
          ]
        }
      ]
    },
    {
      "cell_type": "markdown",
      "source": [
        "**reshape 함수**\n",
        "ndarray의 차원과 크기 변경\n"
      ],
      "metadata": {
        "id": "VbyjVFtr-gHp"
      }
    },
    {
      "cell_type": "code",
      "source": [
        "array1 = np.arange(10) \n",
        "print('array1:\\n', array1) \n",
        "\n",
        "array2 = array1.reshape(2, 5) \n",
        "print('array2:\\n', array2) \n",
        "\n",
        "array3 = array1 .reshape(5, 2) \n",
        "print( 'array3:\\n', array3)"
      ],
      "metadata": {
        "colab": {
          "base_uri": "https://localhost:8080/"
        },
        "id": "yxxpG_eh-j9Z",
        "outputId": "f15762ae-5cb5-4c04-d7c8-d54cf2a5a185"
      },
      "execution_count": 21,
      "outputs": [
        {
          "output_type": "stream",
          "name": "stdout",
          "text": [
            "array1:\n",
            " [0 1 2 3 4 5 6 7 8 9]\n",
            "array2:\n",
            " [[0 1 2 3 4]\n",
            " [5 6 7 8 9]]\n",
            "array3:\n",
            " [[0 1]\n",
            " [2 3]\n",
            " [4 5]\n",
            " [6 7]\n",
            " [8 9]]\n"
          ]
        }
      ]
    },
    {
      "cell_type": "markdown",
      "source": [
        "지정된 사이즈로 변경이 불가능하면 오류 발생"
      ],
      "metadata": {
        "id": "tyPRwXmV_HYN"
      }
    },
    {
      "cell_type": "code",
      "source": [
        "array1.reshape(4,3)"
      ],
      "metadata": {
        "colab": {
          "base_uri": "https://localhost:8080/",
          "height": 172
        },
        "id": "N2cNAUiP_EGd",
        "outputId": "9a2e74ef-f348-4db2-b4ac-bf4dfe970890"
      },
      "execution_count": 23,
      "outputs": [
        {
          "output_type": "error",
          "ename": "ValueError",
          "evalue": "ignored",
          "traceback": [
            "\u001b[0;31m---------------------------------------------------------------------------\u001b[0m",
            "\u001b[0;31mValueError\u001b[0m                                Traceback (most recent call last)",
            "\u001b[0;32m<ipython-input-23-a40469ec5825>\u001b[0m in \u001b[0;36m<module>\u001b[0;34m()\u001b[0m\n\u001b[0;32m----> 1\u001b[0;31m \u001b[0marray1\u001b[0m\u001b[0;34m.\u001b[0m\u001b[0mreshape\u001b[0m\u001b[0;34m(\u001b[0m\u001b[0;36m4\u001b[0m\u001b[0;34m,\u001b[0m\u001b[0;36m3\u001b[0m\u001b[0;34m)\u001b[0m\u001b[0;34m\u001b[0m\u001b[0;34m\u001b[0m\u001b[0m\n\u001b[0m",
            "\u001b[0;31mValueError\u001b[0m: cannot reshape array of size 10 into shape (4,3)"
          ]
        }
      ]
    },
    {
      "cell_type": "code",
      "source": [
        "array1 = np.arange(10) \n",
        "print(array1) \n",
        "array2 = array1.reshape(-1, 5) \n",
        "print(' array2 shape:', array2.shape) \n",
        "array3 = array1.reshape(5, -1) \n",
        "print('array3 shape:', array3.shape)"
      ],
      "metadata": {
        "colab": {
          "base_uri": "https://localhost:8080/"
        },
        "id": "5s-UOqUT_MDi",
        "outputId": "1cf6dc28-246e-40be-a6b4-08d9e1a9fe78"
      },
      "execution_count": 25,
      "outputs": [
        {
          "output_type": "stream",
          "name": "stdout",
          "text": [
            "[0 1 2 3 4 5 6 7 8 9]\n",
            " array2 shape: (2, 5)\n",
            "array3 shape: (5, 2)\n"
          ]
        }
      ]
    },
    {
      "cell_type": "code",
      "source": [
        "array1=np.arange(10)\n",
        "array4=array1.reshape(-1,4)"
      ],
      "metadata": {
        "colab": {
          "base_uri": "https://localhost:8080/",
          "height": 190
        },
        "id": "ZimG9edF_cqi",
        "outputId": "7071f92b-db62-486e-8200-6942a4992b5c"
      },
      "execution_count": 26,
      "outputs": [
        {
          "output_type": "error",
          "ename": "ValueError",
          "evalue": "ignored",
          "traceback": [
            "\u001b[0;31m---------------------------------------------------------------------------\u001b[0m",
            "\u001b[0;31mValueError\u001b[0m                                Traceback (most recent call last)",
            "\u001b[0;32m<ipython-input-26-7f01f0f59baa>\u001b[0m in \u001b[0;36m<module>\u001b[0;34m()\u001b[0m\n\u001b[1;32m      1\u001b[0m \u001b[0marray1\u001b[0m\u001b[0;34m=\u001b[0m\u001b[0mnp\u001b[0m\u001b[0;34m.\u001b[0m\u001b[0marange\u001b[0m\u001b[0;34m(\u001b[0m\u001b[0;36m10\u001b[0m\u001b[0;34m)\u001b[0m\u001b[0;34m\u001b[0m\u001b[0;34m\u001b[0m\u001b[0m\n\u001b[0;32m----> 2\u001b[0;31m \u001b[0marray4\u001b[0m\u001b[0;34m=\u001b[0m\u001b[0marray1\u001b[0m\u001b[0;34m.\u001b[0m\u001b[0mreshape\u001b[0m\u001b[0;34m(\u001b[0m\u001b[0;34m-\u001b[0m\u001b[0;36m1\u001b[0m\u001b[0;34m,\u001b[0m\u001b[0;36m4\u001b[0m\u001b[0;34m)\u001b[0m\u001b[0;34m\u001b[0m\u001b[0;34m\u001b[0m\u001b[0m\n\u001b[0m",
            "\u001b[0;31mValueError\u001b[0m: cannot reshape array of size 10 into shape (4)"
          ]
        }
      ]
    },
    {
      "cell_type": "code",
      "source": [
        "array1= np.arange(8) \n",
        "array3d= array1.reshape((2, 2, 2)) \n",
        "print('array3d:\\n', array3d.tolist()) \n",
        "\n",
        "#3차원 ndarray를 2차원 ndarray로 변환 \n",
        "array5 = array3d. reshape(-1, 1) \n",
        "print('array5:\\n', array5. tolist()) \n",
        "print('array5 shape:', array5. shape) \n",
        "\n",
        "#1차원 ndarray를 2차원 ndarray로 변환 \n",
        "array6 = array1 .reshape(-1, 1) \n",
        "print('array6:\\n', array6.tolist()) \n",
        "print('array6 shape:', array6 .shape)"
      ],
      "metadata": {
        "colab": {
          "base_uri": "https://localhost:8080/"
        },
        "id": "TEwYqxzY_pec",
        "outputId": "221ade8f-a2ee-4f9b-97fa-3ebdf9e830e8"
      },
      "execution_count": 33,
      "outputs": [
        {
          "output_type": "stream",
          "name": "stdout",
          "text": [
            "array3d:\n",
            " [[[0, 1], [2, 3]], [[4, 5], [6, 7]]]\n",
            "array5:\n",
            " [[0], [1], [2], [3], [4], [5], [6], [7]]\n",
            "array5 shape: (8, 1)\n",
            "array6:\n",
            " [[0], [1], [2], [3], [4], [5], [6], [7]]\n",
            "array6 shape: (8, 1)\n"
          ]
        }
      ]
    },
    {
      "cell_type": "markdown",
      "source": [
        "#### **넘파이의 ndarray의 데이터 세트 선택하기-인덱싱**\n",
        "\n",
        "*   특정한 데이터만 추출\n",
        "*   슬라이싱\n",
        "\n",
        "\n",
        "*   팬시 인덱싱\n",
        "*   불린 인덱싱\n",
        "\n",
        "\n",
        "\n",
        "**단일 값 추출**\n",
        "\n"
      ],
      "metadata": {
        "id": "D6jsTbstA-OZ"
      }
    },
    {
      "cell_type": "code",
      "source": [
        "#1부터 9까지의 1차원 ndarray 생성\n",
        "array1=np.arange(start=1,stop=10)\n",
        "print('array1:',array1)\n",
        "\n",
        "#index는 0부터 시작하므로 array1[2]는 3번째 index 위치의 데이터값을 의미\n",
        "value=array1[2]\n",
        "print('value:',value)\n",
        "print(type(value))"
      ],
      "metadata": {
        "colab": {
          "base_uri": "https://localhost:8080/"
        },
        "id": "8mYlcTALBR-y",
        "outputId": "656b290f-e855-47cf-fa5b-07a6bdbdc336"
      },
      "execution_count": 34,
      "outputs": [
        {
          "output_type": "stream",
          "name": "stdout",
          "text": [
            "array1: [1 2 3 4 5 6 7 8 9]\n",
            "value: 3\n",
            "<class 'numpy.int64'>\n"
          ]
        }
      ]
    },
    {
      "cell_type": "code",
      "source": [
        "print('맨 뒤의 값:',array1[-1],'맨 뒤에서 두 번째 값:',array1[-2])"
      ],
      "metadata": {
        "colab": {
          "base_uri": "https://localhost:8080/"
        },
        "id": "NBiTZT4GBlec",
        "outputId": "e07b213e-8e25-47e1-ff2e-32d88ec9a86d"
      },
      "execution_count": 35,
      "outputs": [
        {
          "output_type": "stream",
          "name": "stdout",
          "text": [
            "맨 뒤의 값: 9 맨 뒤에서 두 번째 값: 8\n"
          ]
        }
      ]
    },
    {
      "cell_type": "markdown",
      "source": [
        "단일 인덱스 이용"
      ],
      "metadata": {
        "id": "HyMrJMQZBsau"
      }
    },
    {
      "cell_type": "code",
      "source": [
        "array1[0]=9\n",
        "array1[8]=0\n",
        "print('array1:',array1)"
      ],
      "metadata": {
        "colab": {
          "base_uri": "https://localhost:8080/"
        },
        "id": "xiSj17A0Bt1c",
        "outputId": "d93bacdc-7a84-4ac1-ead2-2222412df2a5"
      },
      "execution_count": 36,
      "outputs": [
        {
          "output_type": "stream",
          "name": "stdout",
          "text": [
            "array1: [9 2 3 4 5 6 7 8 0]\n"
          ]
        }
      ]
    },
    {
      "cell_type": "code",
      "source": [
        "array1d=np.arange(start=1,stop=10)\n",
        "array2d=array1d.reshape(3,3)\n",
        "print(array2d)\n",
        "\n",
        "print('(row=0,col=0) index 가리키는 값:',array2d[0,0])\n",
        "print('(row=0,col=1) index 가리키는 값:',array2d[0,1])\n",
        "print('(row=1,col=0) index 가리키는 값:',array2d[1,0])\n",
        "print('(row=2,col=2) index 가리키는 값:',array2d[2,2])\n"
      ],
      "metadata": {
        "colab": {
          "base_uri": "https://localhost:8080/"
        },
        "id": "pxTOrYzGBLgC",
        "outputId": "6a73f809-dc04-4310-d728-96033828627c"
      },
      "execution_count": 41,
      "outputs": [
        {
          "output_type": "stream",
          "name": "stdout",
          "text": [
            "[[1 2 3]\n",
            " [4 5 6]\n",
            " [7 8 9]]\n",
            "(row=0,col=0) index 가리키는 값: 1\n",
            "(row=0,col=1) index 가리키는 값: 2\n",
            "(row=1,col=0) index 가리키는 값: 4\n",
            "(row=2,col=2) index 가리키는 값: 9\n"
          ]
        }
      ]
    },
    {
      "cell_type": "markdown",
      "source": [
        "슬라이싱\n",
        "> ':'이용"
      ],
      "metadata": {
        "id": "dNRwCliECOmE"
      }
    },
    {
      "cell_type": "code",
      "source": [
        "array1=np.arange(start=1,stop=0)\n",
        "array3=array1[0:3]\n",
        "print(array3)\n",
        "print(type(array3))"
      ],
      "metadata": {
        "colab": {
          "base_uri": "https://localhost:8080/"
        },
        "id": "8kdm4wOGCScB",
        "outputId": "971e76e5-2da6-4d41-f753-7732e8a495d0"
      },
      "execution_count": 37,
      "outputs": [
        {
          "output_type": "stream",
          "name": "stdout",
          "text": [
            "[]\n",
            "<class 'numpy.ndarray'>\n"
          ]
        }
      ]
    },
    {
      "cell_type": "code",
      "source": [
        "array1=np.arange(start=1,stop=10)\n",
        "array4=array1[:3]\n",
        "print(array4)\n",
        "\n",
        "array5=array1[3:]\n",
        "print(array5)\n",
        "\n",
        "array6=array1[:]\n",
        "print(array6)\n"
      ],
      "metadata": {
        "colab": {
          "base_uri": "https://localhost:8080/"
        },
        "id": "n5Yv3mC-C2ZX",
        "outputId": "a59cdfba-2cd9-4ac9-8136-73dd4ea6f569"
      },
      "execution_count": 42,
      "outputs": [
        {
          "output_type": "stream",
          "name": "stdout",
          "text": [
            "[1 2 3]\n",
            "[4 5 6 7 8 9]\n",
            "[1 2 3 4 5 6 7 8 9]\n"
          ]
        }
      ]
    },
    {
      "cell_type": "markdown",
      "source": [
        "2차원 ndarray 슬라이싱 하기"
      ],
      "metadata": {
        "id": "1neVKVMGCnN7"
      }
    },
    {
      "cell_type": "code",
      "source": [
        "array1d=np.arange(start=1,stop=10)\n",
        "array2d=array1d.reshape(3,3)\n",
        "print('array2d:\\n',array2d)\n",
        "\n",
        "print('array2d[0:2,0:2] \\n',array2d[0:2,0:2])\n",
        "print('array2d[1:3,0:3] \\n',array2d[1:3,0:3])\n",
        "print('array2d[1:3,:] \\n',array2d[1:3,:])\n",
        "print('array2d[:,:] \\n',array2d[:,:])\n",
        "print('array2d[:2,1:] \\n',array2d[:2,1:])\n",
        "print('array2d[:2,0] \\n',array2d[:2,0])\n",
        "\n",
        "\n"
      ],
      "metadata": {
        "colab": {
          "base_uri": "https://localhost:8080/"
        },
        "id": "ThRgwauUC-on",
        "outputId": "704cabf5-7046-481c-ee57-0f5cbe5db235"
      },
      "execution_count": 43,
      "outputs": [
        {
          "output_type": "stream",
          "name": "stdout",
          "text": [
            "array2d:\n",
            " [[1 2 3]\n",
            " [4 5 6]\n",
            " [7 8 9]]\n",
            "array2d[0:2,0:2] \n",
            " [[1 2]\n",
            " [4 5]]\n",
            "array2d[1:3,0:3] \n",
            " [[4 5 6]\n",
            " [7 8 9]]\n",
            "array2d[1:3,:] \n",
            " [[4 5 6]\n",
            " [7 8 9]]\n",
            "array2d[:,:] \n",
            " [[1 2 3]\n",
            " [4 5 6]\n",
            " [7 8 9]]\n",
            "array2d[:2,1:] \n",
            " [[2 3]\n",
            " [5 6]]\n",
            "array2d[:2,0] \n",
            " [1 4]\n"
          ]
        }
      ]
    },
    {
      "cell_type": "code",
      "source": [
        "print(array2d[0])\n",
        "print(array2d[1])\n",
        "print('array2d[0] shape:',array2d[0].shape,'array2d[1] shape:',array2d[1].shape)"
      ],
      "metadata": {
        "colab": {
          "base_uri": "https://localhost:8080/"
        },
        "id": "PoyI-ayhDssM",
        "outputId": "6869fa77-4d74-470c-c986-a1f78f704368"
      },
      "execution_count": 44,
      "outputs": [
        {
          "output_type": "stream",
          "name": "stdout",
          "text": [
            "[1 2 3]\n",
            "[4 5 6]\n",
            "array2d[0] shape: (3,) array2d[1] shape: (3,)\n"
          ]
        }
      ]
    },
    {
      "cell_type": "markdown",
      "source": [
        "팬시 인덱싱\n",
        "> 인덱스 집합을 지정하면 해당 위치의 인덱스에 해당하는 ndarray 반환"
      ],
      "metadata": {
        "id": "qF6dSue7D805"
      }
    },
    {
      "cell_type": "code",
      "source": [
        "array1d=np.arange(start=1,stop=10)\n",
        "array2d=array1d.reshape(3,3)\n",
        "\n",
        "array3=array2d[[0,1],2]\n",
        "print('array2d[[0,1],2] -> ',array3.tolist())\n",
        "\n",
        "array4=array2d[[0,1],0:2]\n",
        "print('array2d[[0,1],0:2] -> ',array4.tolist())\n",
        "\n",
        "array5=array2d[[0,1]]\n",
        "print('array2d[[0,1]] -> ',array5.tolist())\n"
      ],
      "metadata": {
        "colab": {
          "base_uri": "https://localhost:8080/"
        },
        "id": "e3z6QW7DEEsh",
        "outputId": "bcc31e94-082c-468a-d2e0-eda86cbf7b87"
      },
      "execution_count": 45,
      "outputs": [
        {
          "output_type": "stream",
          "name": "stdout",
          "text": [
            "array2d[[0,1],2] ->  [3, 6]\n",
            "array2d[[0,1],0:2] ->  [[1, 2], [4, 5]]\n",
            "array2d[[0,1]] ->  [[1, 2, 3], [4, 5, 6]]\n"
          ]
        }
      ]
    },
    {
      "cell_type": "markdown",
      "source": [
        "불린 인덱싱\n",
        "> 조건필터리오가 검색 동시에"
      ],
      "metadata": {
        "id": "lDJl5ApKFKbZ"
      }
    },
    {
      "cell_type": "code",
      "source": [
        "array1d=np.arange(start=1,stop=10)\n",
        "#[]안에 array1d>5 Voolean indexing을 적용\n",
        "array3=array1d[array1d>5]\n",
        "print('array1d>5 불린 인덱싱 결과 값:',array3)"
      ],
      "metadata": {
        "colab": {
          "base_uri": "https://localhost:8080/"
        },
        "id": "qQiLs-auFOfQ",
        "outputId": "b204a26b-551e-4185-d4b3-22352d9624c9"
      },
      "execution_count": 46,
      "outputs": [
        {
          "output_type": "stream",
          "name": "stdout",
          "text": [
            "array1d>5 불린 인덱싱 결과 값: [6 7 8 9]\n"
          ]
        }
      ]
    },
    {
      "cell_type": "code",
      "source": [
        "array1d>5"
      ],
      "metadata": {
        "colab": {
          "base_uri": "https://localhost:8080/"
        },
        "id": "I05BcpfcFdth",
        "outputId": "6866e830-e7ca-46a1-c8dd-8662ab8b6b04"
      },
      "execution_count": 47,
      "outputs": [
        {
          "output_type": "execute_result",
          "data": {
            "text/plain": [
              "array([False, False, False, False, False,  True,  True,  True,  True])"
            ]
          },
          "metadata": {},
          "execution_count": 47
        }
      ]
    },
    {
      "cell_type": "code",
      "source": [
        "boolean_indexes=np.array([False,False,False,False,False,True,True,True,True])\n",
        "array3=array1d[boolean_indexes]\n",
        "print('불린 인덱스로 필터링 결과:',array3)"
      ],
      "metadata": {
        "colab": {
          "base_uri": "https://localhost:8080/"
        },
        "id": "DJ0g6ijzFfr-",
        "outputId": "e96efb21-ce99-4684-e2bc-ba658431b29a"
      },
      "execution_count": 48,
      "outputs": [
        {
          "output_type": "stream",
          "name": "stdout",
          "text": [
            "불린 인덱스로 필터링 결과: [6 7 8 9]\n"
          ]
        }
      ]
    },
    {
      "cell_type": "code",
      "source": [
        "indexes=np.array([5,6,7,8])\n",
        "array4=array1d[indexes]\n",
        "print('일반 인덱스로 필터링 결과:',array4)"
      ],
      "metadata": {
        "colab": {
          "base_uri": "https://localhost:8080/"
        },
        "id": "MsUznoOwFvOb",
        "outputId": "b37fdf42-29cc-4887-e186-c20d47bc04f9"
      },
      "execution_count": 49,
      "outputs": [
        {
          "output_type": "stream",
          "name": "stdout",
          "text": [
            "일반 인덱스로 필터링 결과: [6 7 8 9]\n"
          ]
        }
      ]
    },
    {
      "cell_type": "markdown",
      "source": [
        "#### **행렬의 정렬-sort()와 argsort()**\n",
        "**행령 정렬**\n"
      ],
      "metadata": {
        "id": "b8IqCRNoF3SR"
      }
    },
    {
      "cell_type": "code",
      "source": [
        "org_array=np.array([3,1,9,5])\n",
        "print('원본 행렬:',org_array)\n",
        "\n",
        "#np.sort()로 정렬\n",
        "sort_array1=np.sort(org_array)\n",
        "print('np.sort() 호출 후 반환된 정렬 행렬;',sort_array1)\n",
        "print('np.sort() 호출 후 원본 행렬;',org_array)\n",
        "\n",
        "#ndarray.sort()로 정렬\n",
        "sort_array2=org_array.sort()\n",
        "print('org_array.sort() 호출 후 반환된 정렬 행렬;',sort_array2)\n",
        "print('org_array.sort() 호출 후 원본 행렬;',org_array)\n",
        "\n"
      ],
      "metadata": {
        "colab": {
          "base_uri": "https://localhost:8080/"
        },
        "id": "4Mj0recfGBJk",
        "outputId": "26bada63-7df8-44ed-cc84-e3fa01885886"
      },
      "execution_count": 51,
      "outputs": [
        {
          "output_type": "stream",
          "name": "stdout",
          "text": [
            "원본 행렬: [3 1 9 5]\n",
            "np.sort() 호출 후 반환된 정렬 행렬; [1 3 5 9]\n",
            "np.sort() 호출 후 원본 행렬; [3 1 9 5]\n",
            "org_array.sort() 호출 후 반환된 정렬 행렬; None\n",
            "org_array.sort() 호출 후 원본 행렬; [1 3 5 9]\n"
          ]
        }
      ]
    },
    {
      "cell_type": "code",
      "source": [
        "sort_array1_desc=np.sort(org_array)[::-1]\n",
        "print(\"내림차순으로 정렬:\",sort_array1_desc)"
      ],
      "metadata": {
        "colab": {
          "base_uri": "https://localhost:8080/"
        },
        "id": "frX8kYwEGmwk",
        "outputId": "e0da12b4-5d1e-4490-a54a-cf2655cd2bfc"
      },
      "execution_count": 52,
      "outputs": [
        {
          "output_type": "stream",
          "name": "stdout",
          "text": [
            "내림차순으로 정렬: [9 5 3 1]\n"
          ]
        }
      ]
    },
    {
      "cell_type": "code",
      "source": [
        "array2d=np.array([[8,12],[7,1]])\n",
        "\n",
        "sort_array2d_axis0=np.sort(array2d,axis=0)\n",
        "print('로우 방향을 정렬:\\n',sort_array2d_axis0)\n",
        "\n",
        "sort_array2d_axis1=np.sort(array2d,axis=1)\n",
        "print('칼럼 방향을 정렬:\\n',sort_array2d_axis1)\n"
      ],
      "metadata": {
        "colab": {
          "base_uri": "https://localhost:8080/"
        },
        "id": "hbp_VotMG0A4",
        "outputId": "e996a264-0c8a-4a17-8040-5e604dde9e68"
      },
      "execution_count": 53,
      "outputs": [
        {
          "output_type": "stream",
          "name": "stdout",
          "text": [
            "로우 방향을 정렬:\n",
            " [[ 7  1]\n",
            " [ 8 12]]\n",
            "칼럼 방향을 정렬:\n",
            " [[ 8 12]\n",
            " [ 1  7]]\n"
          ]
        }
      ]
    },
    {
      "cell_type": "markdown",
      "source": [
        "정렬된 행렬의 인덱스를 반환하기"
      ],
      "metadata": {
        "id": "bVlCjIK4HGQT"
      }
    },
    {
      "cell_type": "code",
      "source": [
        "org_array=np.array([3,1,9,5])\n",
        "sort_indices=np.argsort(org_array)\n",
        "print(type(sort_indices))\n",
        "print('행렬 정렬 시 원본 행렬의 인덱스:',sort_indices)"
      ],
      "metadata": {
        "colab": {
          "base_uri": "https://localhost:8080/"
        },
        "id": "p5oCDUpXHH4C",
        "outputId": "41ceff3f-df2d-4adb-c68c-193571e8084b"
      },
      "execution_count": 55,
      "outputs": [
        {
          "output_type": "stream",
          "name": "stdout",
          "text": [
            "<class 'numpy.ndarray'>\n",
            "행렬 정렬 시 원본 행렬의 인덱스: [1 0 3 2]\n"
          ]
        }
      ]
    },
    {
      "cell_type": "code",
      "source": [
        "org_array=np.array([3,1,9,5])\n",
        "sort_indices_desc=np.argsort(org_array)[::-1]\n",
        "print('행렬 내림차순 정렬 시 원본 행렬의 인덱스:',sort_indices_desc)"
      ],
      "metadata": {
        "colab": {
          "base_uri": "https://localhost:8080/"
        },
        "id": "wZ7Yib1vHVcl",
        "outputId": "47f15141-422e-4be2-cf5d-826a0a0ac9cf"
      },
      "execution_count": 56,
      "outputs": [
        {
          "output_type": "stream",
          "name": "stdout",
          "text": [
            "행렬 내림차순 정렬 시 원본 행렬의 인덱스: [2 3 0 1]\n"
          ]
        }
      ]
    },
    {
      "cell_type": "code",
      "source": [
        "import numpy as np\n",
        "\n",
        "name_array=np.array(['John','Mike','Sarah','Kate','Samuel'])\n",
        "score_array=np.array([78,95,84,98,88])\n",
        "\n",
        "sort_indices_asc=np.argsort(score_array)\n",
        "print('성적 오름차순 정렬 시 score_array의 인덱스:',sort_indices_asc)\n",
        "print('성적 오름차순으로 name_array의 이름 출력:',name_array[sort_indices_asc])\n"
      ],
      "metadata": {
        "colab": {
          "base_uri": "https://localhost:8080/"
        },
        "id": "5n7aulGyHnH1",
        "outputId": "7cd3b659-2985-461a-8e0d-89d0a5d84196"
      },
      "execution_count": 57,
      "outputs": [
        {
          "output_type": "stream",
          "name": "stdout",
          "text": [
            "성적 오름차순 정렬 시 score_array의 인덱스: [0 2 4 1 3]\n",
            "성적 오름차순으로 name_array의 이름 출력: ['John' 'Sarah' 'Samuel' 'Mike' 'Kate']\n"
          ]
        }
      ]
    },
    {
      "cell_type": "markdown",
      "source": [
        "#### **선형대수 연산-행렬 내적과 전치 행렬 구하기**\n"
      ],
      "metadata": {
        "id": "IEkjwLJlICIo"
      }
    },
    {
      "cell_type": "code",
      "source": [
        "A=np.array([[1,2,3],[4,5,6]])\n",
        "\n",
        "B=np.array([[7,8],[9,10],[11,12]])\n",
        "\n",
        "dot_product=np.dot(A,B)\n",
        "print('행렬 내적 결과:\\n',dot_product)"
      ],
      "metadata": {
        "colab": {
          "base_uri": "https://localhost:8080/"
        },
        "id": "YtNtDaEjIHFf",
        "outputId": "f435666e-91ad-415a-eb85-89fcb2c88a29"
      },
      "execution_count": 59,
      "outputs": [
        {
          "output_type": "stream",
          "name": "stdout",
          "text": [
            "행렬 내적 결과:\n",
            " [[ 58  64]\n",
            " [139 154]]\n"
          ]
        }
      ]
    },
    {
      "cell_type": "markdown",
      "source": [
        "**전치 행렬**"
      ],
      "metadata": {
        "id": "aH5a_qSVIW13"
      }
    },
    {
      "cell_type": "code",
      "source": [
        "A=np.array([[1,2],[3,4]])\n",
        "transpose_mat=np.transpose(4)\n",
        "print('A의 전치 행렬:\\n',transpose_mat)"
      ],
      "metadata": {
        "colab": {
          "base_uri": "https://localhost:8080/"
        },
        "id": "BYOACgUwIa2B",
        "outputId": "64ea0c8f-be16-40eb-ae91-29d0f567ad42"
      },
      "execution_count": 60,
      "outputs": [
        {
          "output_type": "stream",
          "name": "stdout",
          "text": [
            "A의 전치 행렬:\n",
            " 4\n"
          ]
        }
      ]
    }
  ]
}