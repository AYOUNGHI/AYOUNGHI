{
  "nbformat": 4,
  "nbformat_minor": 5,
  "metadata": {
    "colab": {
      "name": "100_Numpy_exercises(-66) .ipynb",
      "provenance": [],
      "collapsed_sections": [
        "33c986d9",
        "00eb27c4",
        "928a1a15",
        "5143f7f3",
        "f62551d8",
        "6896e326",
        "aeaf4a7b",
        "3d11451b",
        "a0a45995",
        "7808578f",
        "8e83df46",
        "e67ff31c",
        "ad8821b1",
        "a0c8cbf5",
        "781fa236",
        "9c9bb0f3",
        "7d8dc135",
        "aa340126",
        "6b6d2c84",
        "7be0fe36",
        "a840a88f",
        "c2bd7385",
        "4c70397b",
        "15ba193c",
        "ec828405",
        "d94352b6",
        "7c3a9e32",
        "da9d5eeb",
        "f7b65fd5",
        "2784c996",
        "71a7574c",
        "30f06441",
        "e5737276",
        "5882e36d"
      ],
      "include_colab_link": true
    },
    "language_info": {
      "name": "python"
    },
    "kernelspec": {
      "name": "python3",
      "display_name": "Python 3"
    }
  },
  "cells": [
    {
      "cell_type": "markdown",
      "metadata": {
        "id": "view-in-github",
        "colab_type": "text"
      },
      "source": [
        "<a href=\"https://colab.research.google.com/github/AYOUNGHI/AYOUNGHI/blob/main/100_Numpy_exercises(_66)_.ipynb\" target=\"_parent\"><img src=\"https://colab.research.google.com/assets/colab-badge.svg\" alt=\"Open In Colab\"/></a>"
      ]
    },
    {
      "cell_type": "markdown",
      "metadata": {
        "id": "bf79c78b"
      },
      "source": [
        "# 100 numpy exercises\n",
        "\n",
        "This is a collection of exercises that have been collected in the numpy mailing list, on stack overflow\n",
        "and in the numpy documentation. The goal of this collection is to offer a quick reference for both old\n",
        "and new users but also to provide a set of exercises for those who teach.\n",
        "\n",
        "\n",
        "If you find an error or think you've a better way to solve some of them, feel\n",
        "free to open an issue at <https://github.com/rougier/numpy-100>."
      ],
      "id": "bf79c78b"
    },
    {
      "cell_type": "markdown",
      "metadata": {
        "id": "8536e059"
      },
      "source": [
        "File automatically generated. See the documentation to update questions/answers/hints programmatically."
      ],
      "id": "8536e059"
    },
    {
      "cell_type": "markdown",
      "metadata": {
        "id": "e16ac60b"
      },
      "source": [
        "Run the `initialize.py` module, then for each question you can query the\n",
        "answer or an hint with `hint(n)` or `answer(n)` for `n` question number."
      ],
      "id": "e16ac60b"
    },
    {
      "cell_type": "code",
      "metadata": {
        "id": "a8453483"
      },
      "source": [
        "%run initialise.py"
      ],
      "id": "a8453483",
      "execution_count": null,
      "outputs": []
    },
    {
      "cell_type": "markdown",
      "metadata": {
        "id": "017db353"
      },
      "source": [
        "#### 1. Import the numpy package under the name `np` (★☆☆)"
      ],
      "id": "017db353"
    },
    {
      "cell_type": "code",
      "metadata": {
        "id": "68182a76"
      },
      "source": [
        "import numpy as np"
      ],
      "id": "68182a76",
      "execution_count": 1,
      "outputs": []
    },
    {
      "cell_type": "markdown",
      "metadata": {
        "id": "46950f4f"
      },
      "source": [
        "#### 2. Print the numpy version and the configuration (★☆☆)"
      ],
      "id": "46950f4f"
    },
    {
      "cell_type": "code",
      "metadata": {
        "id": "2a9f5838",
        "colab": {
          "base_uri": "https://localhost:8080/"
        },
        "outputId": "675b45d3-5cc0-41b9-f1ec-7d9370d4873d"
      },
      "source": [
        "print(np.__version__)\n",
        "np.show_config()"
      ],
      "id": "2a9f5838",
      "execution_count": null,
      "outputs": [
        {
          "output_type": "stream",
          "name": "stdout",
          "text": [
            "1.21.5\n",
            "blas_mkl_info:\n",
            "  NOT AVAILABLE\n",
            "blis_info:\n",
            "  NOT AVAILABLE\n",
            "openblas_info:\n",
            "    libraries = ['openblas', 'openblas']\n",
            "    library_dirs = ['/usr/local/lib']\n",
            "    language = c\n",
            "    define_macros = [('HAVE_CBLAS', None)]\n",
            "    runtime_library_dirs = ['/usr/local/lib']\n",
            "blas_opt_info:\n",
            "    libraries = ['openblas', 'openblas']\n",
            "    library_dirs = ['/usr/local/lib']\n",
            "    language = c\n",
            "    define_macros = [('HAVE_CBLAS', None)]\n",
            "    runtime_library_dirs = ['/usr/local/lib']\n",
            "lapack_mkl_info:\n",
            "  NOT AVAILABLE\n",
            "openblas_lapack_info:\n",
            "    libraries = ['openblas', 'openblas']\n",
            "    library_dirs = ['/usr/local/lib']\n",
            "    language = c\n",
            "    define_macros = [('HAVE_CBLAS', None)]\n",
            "    runtime_library_dirs = ['/usr/local/lib']\n",
            "lapack_opt_info:\n",
            "    libraries = ['openblas', 'openblas']\n",
            "    library_dirs = ['/usr/local/lib']\n",
            "    language = c\n",
            "    define_macros = [('HAVE_CBLAS', None)]\n",
            "    runtime_library_dirs = ['/usr/local/lib']\n",
            "Supported SIMD extensions in this NumPy install:\n",
            "    baseline = SSE,SSE2,SSE3\n",
            "    found = SSSE3,SSE41,POPCNT,SSE42,AVX,F16C,FMA3,AVX2\n",
            "    not found = AVX512F,AVX512CD,AVX512_KNL,AVX512_KNM,AVX512_SKX,AVX512_CLX,AVX512_CNL,AVX512_ICL\n"
          ]
        }
      ]
    },
    {
      "cell_type": "markdown",
      "metadata": {
        "id": "e3c20b3d"
      },
      "source": [
        "#### 3. Create a null vector of size 10 (★☆☆)"
      ],
      "id": "e3c20b3d"
    },
    {
      "cell_type": "code",
      "metadata": {
        "id": "8a758bcf"
      },
      "source": [
        "x=np.zeros(10)"
      ],
      "id": "8a758bcf",
      "execution_count": null,
      "outputs": []
    },
    {
      "cell_type": "markdown",
      "metadata": {
        "id": "b15a879f"
      },
      "source": [
        "#### 4. How to find the memory size of any array (★☆☆)"
      ],
      "id": "b15a879f"
    },
    {
      "cell_type": "code",
      "metadata": {
        "id": "1cc3cbc5",
        "colab": {
          "base_uri": "https://localhost:8080/"
        },
        "outputId": "7f82b464-af4f-4b29-8b77-5e7e76855735"
      },
      "source": [
        "x.itemsize"
      ],
      "id": "1cc3cbc5",
      "execution_count": null,
      "outputs": [
        {
          "output_type": "execute_result",
          "data": {
            "text/plain": [
              "8"
            ]
          },
          "metadata": {},
          "execution_count": 11
        }
      ]
    },
    {
      "cell_type": "markdown",
      "metadata": {
        "id": "0a708990"
      },
      "source": [
        "#### 5. How to get the documentation of the numpy add function from the command line? (★☆☆)"
      ],
      "id": "0a708990"
    },
    {
      "cell_type": "code",
      "metadata": {
        "id": "477e01f4",
        "colab": {
          "base_uri": "https://localhost:8080/"
        },
        "outputId": "341bd4ea-7598-46b1-ad63-20947f7cd2a2"
      },
      "source": [
        "import numpy; numpy.info(numpy.add)\n"
      ],
      "id": "477e01f4",
      "execution_count": null,
      "outputs": [
        {
          "output_type": "stream",
          "name": "stdout",
          "text": [
            "add(x1, x2, /, out=None, *, where=True, casting='same_kind', order='K', dtype=None, subok=True[, signature, extobj])\n",
            "\n",
            "Add arguments element-wise.\n",
            "\n",
            "Parameters\n",
            "----------\n",
            "x1, x2 : array_like\n",
            "    The arrays to be added.\n",
            "    If ``x1.shape != x2.shape``, they must be broadcastable to a common\n",
            "    shape (which becomes the shape of the output).\n",
            "out : ndarray, None, or tuple of ndarray and None, optional\n",
            "    A location into which the result is stored. If provided, it must have\n",
            "    a shape that the inputs broadcast to. If not provided or None,\n",
            "    a freshly-allocated array is returned. A tuple (possible only as a\n",
            "    keyword argument) must have length equal to the number of outputs.\n",
            "where : array_like, optional\n",
            "    This condition is broadcast over the input. At locations where the\n",
            "    condition is True, the `out` array will be set to the ufunc result.\n",
            "    Elsewhere, the `out` array will retain its original value.\n",
            "    Note that if an uninitialized `out` array is created via the default\n",
            "    ``out=None``, locations within it where the condition is False will\n",
            "    remain uninitialized.\n",
            "**kwargs\n",
            "    For other keyword-only arguments, see the\n",
            "    :ref:`ufunc docs <ufuncs.kwargs>`.\n",
            "\n",
            "Returns\n",
            "-------\n",
            "add : ndarray or scalar\n",
            "    The sum of `x1` and `x2`, element-wise.\n",
            "    This is a scalar if both `x1` and `x2` are scalars.\n",
            "\n",
            "Notes\n",
            "-----\n",
            "Equivalent to `x1` + `x2` in terms of array broadcasting.\n",
            "\n",
            "Examples\n",
            "--------\n",
            ">>> np.add(1.0, 4.0)\n",
            "5.0\n",
            ">>> x1 = np.arange(9.0).reshape((3, 3))\n",
            ">>> x2 = np.arange(3.0)\n",
            ">>> np.add(x1, x2)\n",
            "array([[  0.,   2.,   4.],\n",
            "       [  3.,   5.,   7.],\n",
            "       [  6.,   8.,  10.]])\n",
            "\n",
            "The ``+`` operator can be used as a shorthand for ``np.add`` on ndarrays.\n",
            "\n",
            ">>> x1 = np.arange(9.0).reshape((3, 3))\n",
            ">>> x2 = np.arange(3.0)\n",
            ">>> x1 + x2\n",
            "array([[ 0.,  2.,  4.],\n",
            "       [ 3.,  5.,  7.],\n",
            "       [ 6.,  8., 10.]])\n"
          ]
        }
      ]
    },
    {
      "cell_type": "markdown",
      "metadata": {
        "id": "0b16cd77"
      },
      "source": [
        "#### 6. Create a null vector of size 10 but the fifth value which is 1 (★☆☆)"
      ],
      "id": "0b16cd77"
    },
    {
      "cell_type": "code",
      "metadata": {
        "id": "4d9b5975",
        "colab": {
          "base_uri": "https://localhost:8080/"
        },
        "outputId": "7159288b-eab1-44b8-f7c2-f488a740ecd2"
      },
      "source": [
        "y=np.zeros(10)\n",
        "y[4]=1\n",
        "print(y)"
      ],
      "id": "4d9b5975",
      "execution_count": null,
      "outputs": [
        {
          "output_type": "stream",
          "name": "stdout",
          "text": [
            "[0. 0. 0. 0. 1. 0. 0. 0. 0. 0.]\n"
          ]
        }
      ]
    },
    {
      "cell_type": "markdown",
      "metadata": {
        "id": "782d4c77"
      },
      "source": [
        "#### 7. Create a vector with values ranging from 10 to 49 (★☆☆)"
      ],
      "id": "782d4c77"
    },
    {
      "cell_type": "code",
      "metadata": {
        "id": "5dbe1a08",
        "colab": {
          "base_uri": "https://localhost:8080/"
        },
        "outputId": "b175138e-1d35-4f2e-dcab-246eddaf2854"
      },
      "source": [
        "z=np.arange(10,50)\n",
        "print(z)"
      ],
      "id": "5dbe1a08",
      "execution_count": null,
      "outputs": [
        {
          "output_type": "stream",
          "name": "stdout",
          "text": [
            "[10 11 12 13 14 15 16 17 18 19 20 21 22 23 24 25 26 27 28 29 30 31 32 33\n",
            " 34 35 36 37 38 39 40 41 42 43 44 45 46 47 48 49]\n"
          ]
        }
      ]
    },
    {
      "cell_type": "markdown",
      "metadata": {
        "id": "48d48f01"
      },
      "source": [
        "#### 8. Reverse a vector (first element becomes last) (★☆☆)"
      ],
      "id": "48d48f01"
    },
    {
      "cell_type": "code",
      "metadata": {
        "id": "3ed233e7",
        "colab": {
          "base_uri": "https://localhost:8080/"
        },
        "outputId": "738112e1-fd59-4a66-f5aa-037f08265608"
      },
      "source": [
        "z=z[::-1]\n",
        "print(z)"
      ],
      "id": "3ed233e7",
      "execution_count": null,
      "outputs": [
        {
          "output_type": "stream",
          "name": "stdout",
          "text": [
            "[49 48 47 46 45 44 43 42 41 40 39 38 37 36 35 34 33 32 31 30 29 28 27 26\n",
            " 25 24 23 22 21 20 19 18 17 16 15 14 13 12 11 10]\n"
          ]
        }
      ]
    },
    {
      "cell_type": "markdown",
      "metadata": {
        "id": "4fa39382"
      },
      "source": [
        "#### 9. Create a 3x3 matrix with values ranging from 0 to 8 (★☆☆)"
      ],
      "id": "4fa39382"
    },
    {
      "cell_type": "code",
      "metadata": {
        "id": "c97757ec",
        "colab": {
          "base_uri": "https://localhost:8080/"
        },
        "outputId": "a0727ad4-af3a-4ce2-a4e3-9db1c90c89d6"
      },
      "source": [
        "mat=np.arange(9).reshape(3,3)\n",
        "print(mat)"
      ],
      "id": "c97757ec",
      "execution_count": null,
      "outputs": [
        {
          "output_type": "stream",
          "name": "stdout",
          "text": [
            "[[0 1 2]\n",
            " [3 4 5]\n",
            " [6 7 8]]\n"
          ]
        }
      ]
    },
    {
      "cell_type": "markdown",
      "metadata": {
        "id": "da64551a"
      },
      "source": [
        "#### 10. Find indices of non-zero elements from [1,2,0,0,4,0] (★☆☆)"
      ],
      "id": "da64551a"
    },
    {
      "cell_type": "code",
      "metadata": {
        "id": "327f7adb",
        "colab": {
          "base_uri": "https://localhost:8080/"
        },
        "outputId": "f344ce3a-9853-4b16-a52a-c3e9a9453ce9"
      },
      "source": [
        "x=np.nonzero( [1,2,0,0,4,0] )\n",
        "print(x)"
      ],
      "id": "327f7adb",
      "execution_count": null,
      "outputs": [
        {
          "output_type": "stream",
          "name": "stdout",
          "text": [
            "(array([0, 1, 4]),)\n"
          ]
        }
      ]
    },
    {
      "cell_type": "markdown",
      "metadata": {
        "id": "f89d9c9e"
      },
      "source": [
        "#### 11. Create a 3x3 identity matrix (★☆☆)"
      ],
      "id": "f89d9c9e"
    },
    {
      "cell_type": "code",
      "metadata": {
        "id": "ba625832",
        "colab": {
          "base_uri": "https://localhost:8080/"
        },
        "outputId": "a41d8785-3002-4e0c-c33a-4382c6499514"
      },
      "source": [
        "z1=np.identity(3)\n",
        "print(z1)"
      ],
      "id": "ba625832",
      "execution_count": null,
      "outputs": [
        {
          "output_type": "stream",
          "name": "stdout",
          "text": [
            "[[1. 0. 0.]\n",
            " [0. 1. 0.]\n",
            " [0. 0. 1.]]\n"
          ]
        }
      ]
    },
    {
      "cell_type": "markdown",
      "metadata": {
        "id": "7e44c6fa"
      },
      "source": [
        "#### 12. Create a 3x3x3 array with random values (★☆☆)"
      ],
      "id": "7e44c6fa"
    },
    {
      "cell_type": "code",
      "metadata": {
        "id": "1cb3dddf",
        "colab": {
          "base_uri": "https://localhost:8080/"
        },
        "outputId": "6303ecfb-b0ed-43de-99d4-a05fb4efaef8"
      },
      "source": [
        "z2=np.random.random((3,3,3))\n",
        "print(z2)"
      ],
      "id": "1cb3dddf",
      "execution_count": null,
      "outputs": [
        {
          "output_type": "stream",
          "name": "stdout",
          "text": [
            "[[[0.49468659 0.2812325  0.90395876]\n",
            "  [0.01759214 0.8757804  0.59270958]\n",
            "  [0.77873945 0.18809908 0.59216728]]\n",
            "\n",
            " [[0.04542755 0.91173071 0.0880681 ]\n",
            "  [0.85708461 0.38080047 0.54930845]\n",
            "  [0.67049896 0.20271775 0.57457337]]\n",
            "\n",
            " [[0.08740909 0.17068814 0.84193563]\n",
            "  [0.46865115 0.49816004 0.94431963]\n",
            "  [0.55746378 0.48886951 0.76820934]]]\n"
          ]
        }
      ]
    },
    {
      "cell_type": "markdown",
      "metadata": {
        "id": "13c5928c"
      },
      "source": [
        "#### 13. Create a 10x10 array with random values and find the minimum and maximum values (★☆☆)"
      ],
      "id": "13c5928c"
    },
    {
      "cell_type": "code",
      "metadata": {
        "id": "911c9b93",
        "colab": {
          "base_uri": "https://localhost:8080/"
        },
        "outputId": "9931ae9c-24ed-4146-aaab-5824d67c8641"
      },
      "source": [
        "z3=np.random.random((10,10))\n",
        "print(z3)\n",
        "print(z3.max())\n",
        "print(z3.min())"
      ],
      "id": "911c9b93",
      "execution_count": null,
      "outputs": [
        {
          "output_type": "stream",
          "name": "stdout",
          "text": [
            "[[7.98318016e-01 8.20386862e-01 8.26142251e-01 2.32884156e-01\n",
            "  2.72728989e-01 3.47971235e-01 8.64711472e-01 8.02345269e-01\n",
            "  3.11149277e-01 4.24968074e-01]\n",
            " [6.83402467e-01 4.44240295e-03 9.51237483e-01 5.02876576e-01\n",
            "  7.10811275e-01 6.88384131e-01 5.87735372e-02 3.35887223e-01\n",
            "  1.14433436e-01 9.34831879e-01]\n",
            " [7.52574027e-01 1.32949518e-01 7.52015859e-01 4.98247407e-02\n",
            "  1.97014123e-01 3.61581550e-01 3.21904488e-01 5.54536729e-01\n",
            "  9.72425500e-01 2.79014614e-01]\n",
            " [5.39966381e-01 1.75128449e-01 7.56216005e-01 1.91872241e-01\n",
            "  7.98541069e-01 1.86936031e-01 3.51756877e-01 5.86939152e-01\n",
            "  1.76213300e-02 3.34159187e-01]\n",
            " [7.15703671e-01 3.96364370e-01 1.83747918e-01 7.93134704e-02\n",
            "  1.65848389e-01 3.28134978e-01 5.67122912e-01 2.09084376e-02\n",
            "  7.65885386e-01 1.73155049e-01]\n",
            " [4.36974307e-01 9.99585547e-01 9.49882833e-01 8.10008201e-01\n",
            "  4.55099086e-01 1.93663821e-02 2.91313273e-01 3.76146755e-01\n",
            "  4.23361053e-01 2.33061994e-01]\n",
            " [4.20881727e-01 2.89781933e-01 6.14447588e-01 4.65545047e-01\n",
            "  5.64205492e-01 4.81744659e-01 8.39637318e-01 1.34170462e-01\n",
            "  1.78058781e-04 3.65340105e-01]\n",
            " [3.37414429e-01 6.28374278e-02 1.00414280e-01 7.33948968e-01\n",
            "  4.05834416e-01 7.81984429e-01 8.34288803e-02 1.46280227e-01\n",
            "  5.89113069e-01 7.25372272e-01]\n",
            " [2.84851130e-01 7.43288087e-01 6.26761258e-01 5.53235223e-01\n",
            "  9.09707468e-01 8.17254856e-01 8.28849640e-01 6.09155611e-01\n",
            "  2.88858103e-01 6.05397629e-01]\n",
            " [2.83363353e-01 5.93121743e-01 3.66431801e-01 3.95557193e-01\n",
            "  6.74211365e-01 1.24106217e-01 8.12725915e-01 6.93400522e-01\n",
            "  3.03367373e-01 2.66727866e-01]]\n",
            "0.9995855467802345\n",
            "0.00017805878089749427\n"
          ]
        }
      ]
    },
    {
      "cell_type": "markdown",
      "metadata": {
        "id": "3fa2e461"
      },
      "source": [
        "#### 14. Create a random vector of size 30 and find the mean value (★☆☆)"
      ],
      "id": "3fa2e461"
    },
    {
      "cell_type": "code",
      "metadata": {
        "id": "323eb38a",
        "colab": {
          "base_uri": "https://localhost:8080/"
        },
        "outputId": "205020ef-7c99-4314-bd62-262e8778f07a"
      },
      "source": [
        "x2=np.random.random(30)\n",
        "print(x2)\n",
        "print(np.mean(x2))"
      ],
      "id": "323eb38a",
      "execution_count": null,
      "outputs": [
        {
          "output_type": "stream",
          "name": "stdout",
          "text": [
            "[0.58028426 0.15919062 0.62689611 0.26348125 0.76478008 0.42829496\n",
            " 0.24022339 0.70206569 0.26087921 0.22313002 0.42306099 0.50821915\n",
            " 0.16581853 0.39659214 0.40710868 0.05802127 0.63085161 0.01573304\n",
            " 0.4935572  0.99946886 0.3069957  0.83161193 0.44149091 0.62884624\n",
            " 0.18039206 0.3539677  0.03183861 0.47903346 0.51127985 0.15208458]\n",
            "0.4088399372613704\n"
          ]
        }
      ]
    },
    {
      "cell_type": "markdown",
      "metadata": {
        "id": "73f7a549"
      },
      "source": [
        "#### 15. Create a 2d array with 1 on the border and 0 inside (★☆☆)"
      ],
      "id": "73f7a549"
    },
    {
      "cell_type": "code",
      "metadata": {
        "id": "e3a6807d",
        "colab": {
          "base_uri": "https://localhost:8080/"
        },
        "outputId": "e1847e59-87f1-4340-bdf4-6deef6f029c1"
      },
      "source": [
        "def array(a,b):\n",
        "  x=np.ones((a,b))\n",
        "  x[1:-1,1:-1]=0\n",
        "  return x\n",
        "\n",
        "print(array(3,4))\n",
        "\n"
      ],
      "id": "e3a6807d",
      "execution_count": null,
      "outputs": [
        {
          "output_type": "stream",
          "name": "stdout",
          "text": [
            "[[1. 1. 1. 1.]\n",
            " [1. 0. 0. 1.]\n",
            " [1. 1. 1. 1.]]\n"
          ]
        }
      ]
    },
    {
      "cell_type": "markdown",
      "metadata": {
        "id": "6d0c506f"
      },
      "source": [
        "#### 16. How to add a border (filled with 0's) around an existing array? (★☆☆)"
      ],
      "id": "6d0c506f"
    },
    {
      "cell_type": "code",
      "metadata": {
        "id": "32ffee7b",
        "colab": {
          "base_uri": "https://localhost:8080/"
        },
        "outputId": "5faa2df2-86c8-4417-99cc-0591886cd3d2"
      },
      "source": [
        "def border_inside(a,b):\n",
        "  array = np.ones((a,b))\n",
        "  array[2:a-1,2:b-1] = 2\n",
        "  array = np.pad(array, pad_width=1, mode='constant', constant_values=0)\n",
        "  return array\n",
        "\n",
        "border_inside(4,3)\n"
      ],
      "id": "32ffee7b",
      "execution_count": null,
      "outputs": [
        {
          "output_type": "execute_result",
          "data": {
            "text/plain": [
              "array([[0., 0., 0., 0., 0.],\n",
              "       [0., 1., 1., 1., 0.],\n",
              "       [0., 1., 1., 1., 0.],\n",
              "       [0., 1., 1., 1., 0.],\n",
              "       [0., 1., 1., 1., 0.],\n",
              "       [0., 0., 0., 0., 0.]])"
            ]
          },
          "metadata": {},
          "execution_count": 39
        }
      ]
    },
    {
      "cell_type": "markdown",
      "metadata": {
        "id": "d6ad1a9f"
      },
      "source": [
        "#### 17. What is the result of the following expression? (★☆☆)\n",
        "```python\n",
        "0 * np.nan\n",
        "np.nan == np.nan\n",
        "np.inf > np.nan\n",
        "np.nan - np.nan\n",
        "np.nan in set([np.nan])\n",
        "0.3 == 3 * 0.1\n",
        "```"
      ],
      "id": "d6ad1a9f"
    },
    {
      "cell_type": "code",
      "metadata": {
        "id": "ee7ff0f3",
        "colab": {
          "base_uri": "https://localhost:8080/"
        },
        "outputId": "e87daacf-da78-4515-cd2b-d7bda593b850"
      },
      "source": [
        "print(0 * np.nan)\n",
        "print(np.nan == np.nan)\n",
        "print(np.inf > np.nan)\n",
        "print(np.nan - np.nan)\n",
        "print(np.nan in set([np.nan]))\n",
        "print(0.3 == 3 * 0.1)\n",
        "\n",
        "# nan\n",
        "#False\n",
        "#False\n",
        "#nan\n",
        "#True\n",
        "#False"
      ],
      "id": "ee7ff0f3",
      "execution_count": null,
      "outputs": [
        {
          "output_type": "stream",
          "name": "stdout",
          "text": [
            "nan\n",
            "False\n",
            "False\n",
            "nan\n",
            "True\n",
            "False\n"
          ]
        }
      ]
    },
    {
      "cell_type": "markdown",
      "metadata": {
        "id": "e3a7ba7f"
      },
      "source": [
        "#### 18. Create a 5x5 matrix with values 1,2,3,4 just below the diagonal (★☆☆)"
      ],
      "id": "e3a7ba7f"
    },
    {
      "cell_type": "code",
      "metadata": {
        "id": "01d8e257",
        "colab": {
          "base_uri": "https://localhost:8080/"
        },
        "outputId": "a352e22e-826e-426b-afa0-6b612ede19c8"
      },
      "source": [
        "a = np.array([1,2,3,4])\n",
        "mat = np.diag(a, k=-1)\n",
        "print(mat)\n"
      ],
      "id": "01d8e257",
      "execution_count": null,
      "outputs": [
        {
          "output_type": "stream",
          "name": "stdout",
          "text": [
            "[[0 0 0 0 0]\n",
            " [1 0 0 0 0]\n",
            " [0 2 0 0 0]\n",
            " [0 0 3 0 0]\n",
            " [0 0 0 4 0]]\n"
          ]
        }
      ]
    },
    {
      "cell_type": "markdown",
      "metadata": {
        "id": "6d17ab5d"
      },
      "source": [
        "#### 19. Create a 8x8 matrix and fill it with a checkerboard pattern (★☆☆)"
      ],
      "id": "6d17ab5d"
    },
    {
      "cell_type": "code",
      "metadata": {
        "id": "841373cd",
        "colab": {
          "base_uri": "https://localhost:8080/"
        },
        "outputId": "42625438-b322-4e72-b3cf-a94add08d0c2"
      },
      "source": [
        "z4=np.zeros((8,8))\n",
        "z4[1::2,::2]=1\n",
        "z4[::2,1::2]=1\n",
        "print(z4)"
      ],
      "id": "841373cd",
      "execution_count": null,
      "outputs": [
        {
          "output_type": "stream",
          "name": "stdout",
          "text": [
            "[[0. 1. 0. 1. 0. 1. 0. 1.]\n",
            " [1. 0. 1. 0. 1. 0. 1. 0.]\n",
            " [0. 1. 0. 1. 0. 1. 0. 1.]\n",
            " [1. 0. 1. 0. 1. 0. 1. 0.]\n",
            " [0. 1. 0. 1. 0. 1. 0. 1.]\n",
            " [1. 0. 1. 0. 1. 0. 1. 0.]\n",
            " [0. 1. 0. 1. 0. 1. 0. 1.]\n",
            " [1. 0. 1. 0. 1. 0. 1. 0.]]\n"
          ]
        }
      ]
    },
    {
      "cell_type": "markdown",
      "metadata": {
        "id": "8837119b"
      },
      "source": [
        "#### 20. Consider a (6,7,8) shape array, what is the index (x,y,z) of the 100th element? (★☆☆)"
      ],
      "id": "8837119b"
    },
    {
      "cell_type": "code",
      "metadata": {
        "id": "2c0d16f1",
        "colab": {
          "base_uri": "https://localhost:8080/"
        },
        "outputId": "9c3833e3-0267-46ca-b237-51852da5ffe3"
      },
      "source": [
        "z5=np.unravel_index(100,(6,7,8))\n",
        "print(z5)"
      ],
      "id": "2c0d16f1",
      "execution_count": null,
      "outputs": [
        {
          "output_type": "stream",
          "name": "stdout",
          "text": [
            "(1, 5, 4)\n"
          ]
        }
      ]
    },
    {
      "cell_type": "markdown",
      "metadata": {
        "id": "ec788c9f"
      },
      "source": [
        "#### 21. Create a checkerboard 8x8 matrix using the tile function (★☆☆)"
      ],
      "id": "ec788c9f"
    },
    {
      "cell_type": "code",
      "metadata": {
        "id": "0a4f919f",
        "colab": {
          "base_uri": "https://localhost:8080/"
        },
        "outputId": "a1abe3d6-883f-481f-effc-defd7bcb1f1c"
      },
      "source": [
        "print(np.tile([[0,1],[1,0]],(4,4)))\n"
      ],
      "id": "0a4f919f",
      "execution_count": null,
      "outputs": [
        {
          "output_type": "stream",
          "name": "stdout",
          "text": [
            "[[0 1 0 1 0 1 0 1]\n",
            " [1 0 1 0 1 0 1 0]\n",
            " [0 1 0 1 0 1 0 1]\n",
            " [1 0 1 0 1 0 1 0]\n",
            " [0 1 0 1 0 1 0 1]\n",
            " [1 0 1 0 1 0 1 0]\n",
            " [0 1 0 1 0 1 0 1]\n",
            " [1 0 1 0 1 0 1 0]]\n"
          ]
        }
      ]
    },
    {
      "cell_type": "markdown",
      "metadata": {
        "id": "391791e0"
      },
      "source": [
        "#### 22. Normalize a 5x5 random matrix (★☆☆)"
      ],
      "id": "391791e0"
    },
    {
      "cell_type": "code",
      "metadata": {
        "id": "f6533d39",
        "colab": {
          "base_uri": "https://localhost:8080/"
        },
        "outputId": "5f7bf1c4-bd3b-4a4c-ed7f-c089966514bd"
      },
      "source": [
        "z6=np.random.random((5,5))\n",
        "z6=(z6-np.mean(z6))/(np.std(z6))\n",
        "print(z6)"
      ],
      "id": "f6533d39",
      "execution_count": null,
      "outputs": [
        {
          "output_type": "stream",
          "name": "stdout",
          "text": [
            "[[-1.21633989 -0.02400756 -1.69736557  0.78501124 -1.50717203]\n",
            " [ 0.58522055 -0.53620578 -0.34069491  1.68089698  0.52160323]\n",
            " [ 1.64461139 -1.86800427  1.74360606  0.45023151 -1.13608382]\n",
            " [ 0.60999588 -0.20264047 -0.40443987 -0.01484658 -0.24735209]\n",
            " [ 1.09852882 -0.35920721 -0.70753403  0.73380538  0.40838302]]\n"
          ]
        }
      ]
    },
    {
      "cell_type": "markdown",
      "metadata": {
        "id": "1e74d39e"
      },
      "source": [
        "#### 23. Create a custom dtype that describes a color as four unsigned bytes (RGBA) (★☆☆)"
      ],
      "id": "1e74d39e"
    },
    {
      "cell_type": "code",
      "metadata": {
        "id": "3f639d33",
        "colab": {
          "base_uri": "https://localhost:8080/"
        },
        "outputId": "a1d2ba42-4fb7-4bd5-c46d-d795cdf1921e"
      },
      "source": [
        "color=np.dtype([(\"r\",np.ubyte),(\"g\",np.ubyte),(\"b\",np.ubyte),(\"a\",np.ubyte)])\n",
        "print(color)"
      ],
      "id": "3f639d33",
      "execution_count": null,
      "outputs": [
        {
          "output_type": "stream",
          "name": "stdout",
          "text": [
            "[('r', 'u1'), ('g', 'u1'), ('b', 'u1'), ('a', 'u1')]\n"
          ]
        }
      ]
    },
    {
      "cell_type": "markdown",
      "metadata": {
        "id": "78250c14"
      },
      "source": [
        "#### 24. Multiply a 5x3 matrix by a 3x2 matrix (real matrix product) (★☆☆)"
      ],
      "id": "78250c14"
    },
    {
      "cell_type": "code",
      "metadata": {
        "id": "9fe729cb",
        "colab": {
          "base_uri": "https://localhost:8080/"
        },
        "outputId": "272f0334-c31d-4837-d6df-df6103116820"
      },
      "source": [
        "x6=np.random.random((5,3))\n",
        "x7=np.random.random((3,2))\n",
        "print(np.dot(x6,x7))"
      ],
      "id": "9fe729cb",
      "execution_count": null,
      "outputs": [
        {
          "output_type": "stream",
          "name": "stdout",
          "text": [
            "[[0.29904808 0.21134434]\n",
            " [0.8879972  0.51509955]\n",
            " [1.72613167 1.08433295]\n",
            " [1.05396488 0.77172006]\n",
            " [0.67848628 0.5568945 ]]\n"
          ]
        }
      ]
    },
    {
      "cell_type": "markdown",
      "metadata": {
        "id": "51898680"
      },
      "source": [
        "#### 25. Given a 1D array, negate all elements which are between 3 and 8, in place. (★☆☆)"
      ],
      "id": "51898680"
    },
    {
      "cell_type": "code",
      "metadata": {
        "id": "51c90f2d",
        "colab": {
          "base_uri": "https://localhost:8080/"
        },
        "outputId": "56e6070a-1d9b-4e84-fc7c-133d11e5c322"
      },
      "source": [
        "z8=np.arange(20)\n",
        "z8[(z8>3) & (z8 <8)] *= -1\n",
        "print(z8)"
      ],
      "id": "51c90f2d",
      "execution_count": null,
      "outputs": [
        {
          "output_type": "stream",
          "name": "stdout",
          "text": [
            "[ 0  1  2  3 -4 -5 -6 -7  8  9 10 11 12 13 14 15 16 17 18 19]\n"
          ]
        }
      ]
    },
    {
      "cell_type": "markdown",
      "metadata": {
        "id": "89e78048"
      },
      "source": [
        "#### 26. What is the output of the following script? (★☆☆)\n",
        "```python\n",
        "# Author: Jake VanderPlas\n",
        "\n",
        "print(sum(range(5),-1))\n",
        "from numpy import *\n",
        "print(sum(range(5),-1))\n",
        "```"
      ],
      "id": "89e78048"
    },
    {
      "cell_type": "code",
      "metadata": {
        "id": "b62e9d1c",
        "colab": {
          "base_uri": "https://localhost:8080/"
        },
        "outputId": "7069982d-3666-48a0-8ce8-0aa083901158"
      },
      "source": [
        "print(sum(range(5),-1))\n",
        "from numpy import *\n",
        "print(sum(range(5),-1))\n",
        "\n",
        "#9\n",
        "#10\n",
        "#일반 sum함수는 -1이 연산에 포함되는데, numpy의 sum함수는-1이 연산에 포함되지 않고 이니셜포인트 역할을 한다."
      ],
      "id": "b62e9d1c",
      "execution_count": null,
      "outputs": [
        {
          "output_type": "stream",
          "name": "stdout",
          "text": [
            "10\n",
            "10\n",
            "Help on function sum in module numpy:\n",
            "\n",
            "sum(a, axis=None, dtype=None, out=None, keepdims=<no value>, initial=<no value>, where=<no value>)\n",
            "    Sum of array elements over a given axis.\n",
            "    \n",
            "    Parameters\n",
            "    ----------\n",
            "    a : array_like\n",
            "        Elements to sum.\n",
            "    axis : None or int or tuple of ints, optional\n",
            "        Axis or axes along which a sum is performed.  The default,\n",
            "        axis=None, will sum all of the elements of the input array.  If\n",
            "        axis is negative it counts from the last to the first axis.\n",
            "    \n",
            "        .. versionadded:: 1.7.0\n",
            "    \n",
            "        If axis is a tuple of ints, a sum is performed on all of the axes\n",
            "        specified in the tuple instead of a single axis or all the axes as\n",
            "        before.\n",
            "    dtype : dtype, optional\n",
            "        The type of the returned array and of the accumulator in which the\n",
            "        elements are summed.  The dtype of `a` is used by default unless `a`\n",
            "        has an integer dtype of less precision than the default platform\n",
            "        integer.  In that case, if `a` is signed then the platform integer\n",
            "        is used while if `a` is unsigned then an unsigned integer of the\n",
            "        same precision as the platform integer is used.\n",
            "    out : ndarray, optional\n",
            "        Alternative output array in which to place the result. It must have\n",
            "        the same shape as the expected output, but the type of the output\n",
            "        values will be cast if necessary.\n",
            "    keepdims : bool, optional\n",
            "        If this is set to True, the axes which are reduced are left\n",
            "        in the result as dimensions with size one. With this option,\n",
            "        the result will broadcast correctly against the input array.\n",
            "    \n",
            "        If the default value is passed, then `keepdims` will not be\n",
            "        passed through to the `sum` method of sub-classes of\n",
            "        `ndarray`, however any non-default value will be.  If the\n",
            "        sub-class' method does not implement `keepdims` any\n",
            "        exceptions will be raised.\n",
            "    initial : scalar, optional\n",
            "        Starting value for the sum. See `~numpy.ufunc.reduce` for details.\n",
            "    \n",
            "        .. versionadded:: 1.15.0\n",
            "    \n",
            "    where : array_like of bool, optional\n",
            "        Elements to include in the sum. See `~numpy.ufunc.reduce` for details.\n",
            "    \n",
            "        .. versionadded:: 1.17.0\n",
            "    \n",
            "    Returns\n",
            "    -------\n",
            "    sum_along_axis : ndarray\n",
            "        An array with the same shape as `a`, with the specified\n",
            "        axis removed.   If `a` is a 0-d array, or if `axis` is None, a scalar\n",
            "        is returned.  If an output array is specified, a reference to\n",
            "        `out` is returned.\n",
            "    \n",
            "    See Also\n",
            "    --------\n",
            "    ndarray.sum : Equivalent method.\n",
            "    \n",
            "    add.reduce : Equivalent functionality of `add`.\n",
            "    \n",
            "    cumsum : Cumulative sum of array elements.\n",
            "    \n",
            "    trapz : Integration of array values using the composite trapezoidal rule.\n",
            "    \n",
            "    mean, average\n",
            "    \n",
            "    Notes\n",
            "    -----\n",
            "    Arithmetic is modular when using integer types, and no error is\n",
            "    raised on overflow.\n",
            "    \n",
            "    The sum of an empty array is the neutral element 0:\n",
            "    \n",
            "    >>> np.sum([])\n",
            "    0.0\n",
            "    \n",
            "    For floating point numbers the numerical precision of sum (and\n",
            "    ``np.add.reduce``) is in general limited by directly adding each number\n",
            "    individually to the result causing rounding errors in every step.\n",
            "    However, often numpy will use a  numerically better approach (partial\n",
            "    pairwise summation) leading to improved precision in many use-cases.\n",
            "    This improved precision is always provided when no ``axis`` is given.\n",
            "    When ``axis`` is given, it will depend on which axis is summed.\n",
            "    Technically, to provide the best speed possible, the improved precision\n",
            "    is only used when the summation is along the fast axis in memory.\n",
            "    Note that the exact precision may vary depending on other parameters.\n",
            "    In contrast to NumPy, Python's ``math.fsum`` function uses a slower but\n",
            "    more precise approach to summation.\n",
            "    Especially when summing a large number of lower precision floating point\n",
            "    numbers, such as ``float32``, numerical errors can become significant.\n",
            "    In such cases it can be advisable to use `dtype=\"float64\"` to use a higher\n",
            "    precision for the output.\n",
            "    \n",
            "    Examples\n",
            "    --------\n",
            "    >>> np.sum([0.5, 1.5])\n",
            "    2.0\n",
            "    >>> np.sum([0.5, 0.7, 0.2, 1.5], dtype=np.int32)\n",
            "    1\n",
            "    >>> np.sum([[0, 1], [0, 5]])\n",
            "    6\n",
            "    >>> np.sum([[0, 1], [0, 5]], axis=0)\n",
            "    array([0, 6])\n",
            "    >>> np.sum([[0, 1], [0, 5]], axis=1)\n",
            "    array([1, 5])\n",
            "    >>> np.sum([[0, 1], [np.nan, 5]], where=[False, True], axis=1)\n",
            "    array([1., 5.])\n",
            "    \n",
            "    If the accumulator is too small, overflow occurs:\n",
            "    \n",
            "    >>> np.ones(128, dtype=np.int8).sum(dtype=np.int8)\n",
            "    -128\n",
            "    \n",
            "    You can also start the sum with a value other than zero:\n",
            "    \n",
            "    >>> np.sum([10], initial=5)\n",
            "    15\n",
            "\n"
          ]
        }
      ]
    },
    {
      "cell_type": "markdown",
      "metadata": {
        "id": "ebd10810"
      },
      "source": [
        "#### 27. Consider an integer vector Z, which of these expressions are legal? (★☆☆)\n",
        "```python\n",
        "Z**Z\n",
        "2 << Z >> 2\n",
        "Z <- Z\n",
        "1j*Z\n",
        "Z/1/1\n",
        "Z<Z>Z\n",
        "```"
      ],
      "id": "ebd10810"
    },
    {
      "cell_type": "code",
      "metadata": {
        "id": "6ada209f",
        "colab": {
          "base_uri": "https://localhost:8080/",
          "height": 318
        },
        "outputId": "9ddebb23-1544-45d6-e6e0-565870a03e64"
      },
      "source": [
        "#Z<Z>Z illegal"
      ],
      "id": "6ada209f",
      "execution_count": null,
      "outputs": [
        {
          "output_type": "stream",
          "name": "stdout",
          "text": [
            "[0 1 2 3 4]\n",
            "[  1   1   4  27 256]\n",
            "[0 1 2 4 8]\n",
            "[False False False False False]\n",
            "[0.+0.j 0.+1.j 0.+2.j 0.+3.j 0.+4.j]\n",
            "[0. 1. 2. 3. 4.]\n"
          ]
        },
        {
          "output_type": "error",
          "ename": "ValueError",
          "evalue": "ignored",
          "traceback": [
            "\u001b[0;31m---------------------------------------------------------------------------\u001b[0m",
            "\u001b[0;31mValueError\u001b[0m                                Traceback (most recent call last)",
            "\u001b[0;32m<ipython-input-79-313aa6f52c60>\u001b[0m in \u001b[0;36m<module>\u001b[0;34m()\u001b[0m\n\u001b[1;32m      6\u001b[0m \u001b[0mprint\u001b[0m\u001b[0;34m(\u001b[0m\u001b[0;36m1j\u001b[0m\u001b[0;34m*\u001b[0m\u001b[0mZ\u001b[0m\u001b[0;34m)\u001b[0m\u001b[0;34m\u001b[0m\u001b[0;34m\u001b[0m\u001b[0m\n\u001b[1;32m      7\u001b[0m \u001b[0mprint\u001b[0m\u001b[0;34m(\u001b[0m\u001b[0mZ\u001b[0m\u001b[0;34m/\u001b[0m\u001b[0;36m1\u001b[0m\u001b[0;34m/\u001b[0m\u001b[0;36m1\u001b[0m\u001b[0;34m)\u001b[0m\u001b[0;34m\u001b[0m\u001b[0;34m\u001b[0m\u001b[0m\n\u001b[0;32m----> 8\u001b[0;31m \u001b[0mprint\u001b[0m\u001b[0;34m(\u001b[0m\u001b[0mZ\u001b[0m\u001b[0;34m<\u001b[0m\u001b[0mZ\u001b[0m\u001b[0;34m>\u001b[0m\u001b[0mZ\u001b[0m\u001b[0;34m)\u001b[0m\u001b[0;34m\u001b[0m\u001b[0;34m\u001b[0m\u001b[0m\n\u001b[0m",
            "\u001b[0;31mValueError\u001b[0m: The truth value of an array with more than one element is ambiguous. Use a.any() or a.all()"
          ]
        }
      ]
    },
    {
      "cell_type": "markdown",
      "metadata": {
        "id": "c0e940f8"
      },
      "source": [
        "#### 28. What are the result of the following expressions? (★☆☆)\n",
        "```python\n",
        "np.array(0) / np.array(0)\n",
        "np.array(0) // np.array(0)\n",
        "np.array([np.nan]).astype(int).astype(float)\n",
        "```"
      ],
      "id": "c0e940f8"
    },
    {
      "cell_type": "code",
      "metadata": {
        "id": "820dc7a5",
        "colab": {
          "base_uri": "https://localhost:8080/"
        },
        "outputId": "be81edf5-33f7-43dc-96a4-262e74a907cd"
      },
      "source": [
        "print(np.array(0) / np.array(0))\n",
        "print(np.array(0) // np.array(0))\n",
        "print(np.array([np.nan]).astype(int).astype(float))\n",
        "#nan\n",
        "#0\n",
        "#[-9.22337204e+18]\n",
        "\n"
      ],
      "id": "820dc7a5",
      "execution_count": null,
      "outputs": [
        {
          "output_type": "stream",
          "name": "stdout",
          "text": [
            "nan\n",
            "0\n",
            "[-9.22337204e+18]\n"
          ]
        },
        {
          "output_type": "stream",
          "name": "stderr",
          "text": [
            "/usr/local/lib/python3.7/dist-packages/ipykernel_launcher.py:1: RuntimeWarning: invalid value encountered in true_divide\n",
            "  \"\"\"Entry point for launching an IPython kernel.\n",
            "/usr/local/lib/python3.7/dist-packages/ipykernel_launcher.py:2: RuntimeWarning: divide by zero encountered in floor_divide\n",
            "  \n"
          ]
        }
      ]
    },
    {
      "cell_type": "markdown",
      "metadata": {
        "id": "22713c3f"
      },
      "source": [
        "#### 29. How to round away from zero a float array ? (★☆☆)"
      ],
      "id": "22713c3f"
    },
    {
      "cell_type": "code",
      "metadata": {
        "id": "a3e05c29",
        "colab": {
          "base_uri": "https://localhost:8080/"
        },
        "outputId": "2bd976c6-960e-4d08-cc4e-6cf5e2c25c5c"
      },
      "source": [
        "z7=np.random.random((10))\n",
        "print(np.round(z7))"
      ],
      "id": "a3e05c29",
      "execution_count": null,
      "outputs": [
        {
          "output_type": "stream",
          "name": "stdout",
          "text": [
            "[1. 0. 1. 0. 1. 1. 1. 0. 0. 1.]\n"
          ]
        }
      ]
    },
    {
      "cell_type": "markdown",
      "metadata": {
        "id": "f1ae2c2d"
      },
      "source": [
        "#### 30. How to find common values between two arrays? (★☆☆)"
      ],
      "id": "f1ae2c2d"
    },
    {
      "cell_type": "code",
      "metadata": {
        "id": "6801c73d",
        "colab": {
          "base_uri": "https://localhost:8080/"
        },
        "outputId": "ffe2dc48-f891-450c-cc70-8cb2eb20378d"
      },
      "source": [
        "z1=np.arange(10)\n",
        "z2=np.arange(20)\n",
        "np.intersect1d(z1,z2)"
      ],
      "id": "6801c73d",
      "execution_count": null,
      "outputs": [
        {
          "output_type": "execute_result",
          "data": {
            "text/plain": [
              "array([0, 1, 2, 3, 4, 5, 6, 7, 8, 9])"
            ]
          },
          "metadata": {},
          "execution_count": 85
        }
      ]
    },
    {
      "cell_type": "markdown",
      "metadata": {
        "id": "34a7bdee"
      },
      "source": [
        "#### 31. How to ignore all numpy warnings (not recommended)? (★☆☆)"
      ],
      "id": "34a7bdee"
    },
    {
      "cell_type": "code",
      "metadata": {
        "id": "befc60d1"
      },
      "source": [
        "defaults=np.seterr(all=\"ignore\")\n",
        "_=np.seterr(**defaults)"
      ],
      "id": "befc60d1",
      "execution_count": null,
      "outputs": []
    },
    {
      "cell_type": "markdown",
      "metadata": {
        "id": "37bc0973"
      },
      "source": [
        "#### 32. Is the following expressions true? (★☆☆)\n",
        "```python\n",
        "np.sqrt(-1) == np.emath.sqrt(-1)\n",
        "```"
      ],
      "id": "37bc0973"
    },
    {
      "cell_type": "code",
      "metadata": {
        "id": "c70cbabe",
        "colab": {
          "base_uri": "https://localhost:8080/"
        },
        "outputId": "35624254-a10b-40a5-9363-efb1891b0c91"
      },
      "source": [
        "np.sqrt(-1) == np.emath.sqrt(-1)\n",
        "\n",
        "#False"
      ],
      "id": "c70cbabe",
      "execution_count": null,
      "outputs": [
        {
          "output_type": "execute_result",
          "data": {
            "text/plain": [
              "False"
            ]
          },
          "metadata": {},
          "execution_count": 88
        }
      ]
    },
    {
      "cell_type": "markdown",
      "metadata": {
        "id": "129c342d"
      },
      "source": [
        "#### 33. How to get the dates of yesterday, today and tomorrow? (★☆☆)"
      ],
      "id": "129c342d"
    },
    {
      "cell_type": "code",
      "metadata": {
        "id": "8ba1badb",
        "colab": {
          "base_uri": "https://localhost:8080/"
        },
        "outputId": "7edc9f98-4d26-4c43-bd19-8454c630517e"
      },
      "source": [
        "yesterday=np.datetime64('today')-np.timedelta64(1)\n",
        "today=np.datetime64('today')\n",
        "tomorrow=np.datetime64('today')+np.timedelta64(1)\n",
        "\n",
        "print(yesterday)\n",
        "print(today)\n",
        "print(tomorrow)"
      ],
      "id": "8ba1badb",
      "execution_count": null,
      "outputs": [
        {
          "output_type": "stream",
          "name": "stdout",
          "text": [
            "2022-03-13\n",
            "2022-03-14\n",
            "2022-03-15\n"
          ]
        }
      ]
    },
    {
      "cell_type": "markdown",
      "metadata": {
        "id": "42f8b2f9"
      },
      "source": [
        "#### 34. How to get all the dates corresponding to the month of July 2016? (★★☆)"
      ],
      "id": "42f8b2f9"
    },
    {
      "cell_type": "code",
      "metadata": {
        "id": "eb8ebe45",
        "colab": {
          "base_uri": "https://localhost:8080/"
        },
        "outputId": "1aea78e2-33cf-4478-c5c1-1ce0f7b3489b"
      },
      "source": [
        "Z = np.arange('2016-07', '2016-08', dtype='datetime64[D]')\n",
        "print(Z)"
      ],
      "id": "eb8ebe45",
      "execution_count": null,
      "outputs": [
        {
          "output_type": "stream",
          "name": "stdout",
          "text": [
            "['2016-07-01' '2016-07-02' '2016-07-03' '2016-07-04' '2016-07-05'\n",
            " '2016-07-06' '2016-07-07' '2016-07-08' '2016-07-09' '2016-07-10'\n",
            " '2016-07-11' '2016-07-12' '2016-07-13' '2016-07-14' '2016-07-15'\n",
            " '2016-07-16' '2016-07-17' '2016-07-18' '2016-07-19' '2016-07-20'\n",
            " '2016-07-21' '2016-07-22' '2016-07-23' '2016-07-24' '2016-07-25'\n",
            " '2016-07-26' '2016-07-27' '2016-07-28' '2016-07-29' '2016-07-30'\n",
            " '2016-07-31']\n"
          ]
        }
      ]
    },
    {
      "cell_type": "markdown",
      "metadata": {
        "id": "252c43e2"
      },
      "source": [
        "#### 35. How to compute ((A+B)*(-A/2)) in place (without copy)? (★★☆)"
      ],
      "id": "252c43e2"
    },
    {
      "cell_type": "code",
      "metadata": {
        "id": "f06ff615",
        "colab": {
          "base_uri": "https://localhost:8080/"
        },
        "outputId": "e041eb0f-addf-419d-f08f-9309874206cc"
      },
      "source": [
        "A = np.ones(3)*1\n",
        "B = np.ones(3)*2\n",
        "np.add(A,B,out=B)\n",
        "np.divide(A,2,out=A)\n",
        "np.negative(A,out=A)\n",
        "np.multiply(A,B,out=A)"
      ],
      "id": "f06ff615",
      "execution_count": null,
      "outputs": [
        {
          "output_type": "execute_result",
          "data": {
            "text/plain": [
              "array([-1.5, -1.5, -1.5])"
            ]
          },
          "metadata": {},
          "execution_count": 5
        }
      ]
    },
    {
      "cell_type": "markdown",
      "metadata": {
        "id": "486df8ea"
      },
      "source": [
        "#### 36. Extract the integer part of a random array of positive numbers using 4 different methods (★★☆)"
      ],
      "id": "486df8ea"
    },
    {
      "cell_type": "code",
      "metadata": {
        "id": "34b4fa08",
        "colab": {
          "base_uri": "https://localhost:8080/"
        },
        "outputId": "4d818c33-fac2-4af2-f22c-73fd6a136422"
      },
      "source": [
        "Z = np.random.uniform(0,10,10)\n",
        "\n",
        "print(Z - Z%1)\n",
        "print(Z // 1)\n",
        "print(np.floor(Z))\n",
        "print(Z.astype(int))\n",
        "print(np.trunc(Z))"
      ],
      "id": "34b4fa08",
      "execution_count": null,
      "outputs": [
        {
          "output_type": "stream",
          "name": "stdout",
          "text": [
            "[3. 6. 5. 8. 9. 5. 0. 1. 7. 2.]\n",
            "[3. 6. 5. 8. 9. 5. 0. 1. 7. 2.]\n",
            "[3. 6. 5. 8. 9. 5. 0. 1. 7. 2.]\n",
            "[3 6 5 8 9 5 0 1 7 2]\n",
            "[3. 6. 5. 8. 9. 5. 0. 1. 7. 2.]\n"
          ]
        }
      ]
    },
    {
      "cell_type": "markdown",
      "metadata": {
        "id": "649e89f9"
      },
      "source": [
        "#### 37. Create a 5x5 matrix with row values ranging from 0 to 4 (★★☆)"
      ],
      "id": "649e89f9"
    },
    {
      "cell_type": "code",
      "metadata": {
        "id": "663cc611",
        "colab": {
          "base_uri": "https://localhost:8080/"
        },
        "outputId": "49dfb386-5ab8-4feb-bd7c-c2f439bdc1b2"
      },
      "source": [
        "Z = np.zeros((5,5))\n",
        "Z += np.arange(5)\n",
        "print(Z)"
      ],
      "id": "663cc611",
      "execution_count": null,
      "outputs": [
        {
          "output_type": "stream",
          "name": "stdout",
          "text": [
            "[[0. 1. 2. 3. 4.]\n",
            " [0. 1. 2. 3. 4.]\n",
            " [0. 1. 2. 3. 4.]\n",
            " [0. 1. 2. 3. 4.]\n",
            " [0. 1. 2. 3. 4.]]\n"
          ]
        }
      ]
    },
    {
      "cell_type": "markdown",
      "metadata": {
        "id": "3421e17f"
      },
      "source": [
        "#### 38. Consider a generator function that generates 10 integers and use it to build an array (★☆☆)"
      ],
      "id": "3421e17f"
    },
    {
      "cell_type": "code",
      "metadata": {
        "id": "7336b8e4",
        "colab": {
          "base_uri": "https://localhost:8080/"
        },
        "outputId": "8a735b4a-3ef4-47f6-eafc-4201365c9949"
      },
      "source": [
        "def generate():\n",
        "    for x in range(10):\n",
        "        yield x\n",
        "Z = np.fromiter(generate(),dtype=float,count=-1)\n",
        "print(Z)"
      ],
      "id": "7336b8e4",
      "execution_count": null,
      "outputs": [
        {
          "output_type": "stream",
          "name": "stdout",
          "text": [
            "[0. 1. 2. 3. 4. 5. 6. 7. 8. 9.]\n"
          ]
        }
      ]
    },
    {
      "cell_type": "markdown",
      "metadata": {
        "id": "483dd554"
      },
      "source": [
        "#### 39. Create a vector of size 10 with values ranging from 0 to 1, both excluded (★★☆)"
      ],
      "id": "483dd554"
    },
    {
      "cell_type": "code",
      "metadata": {
        "id": "c89b93e7",
        "colab": {
          "base_uri": "https://localhost:8080/"
        },
        "outputId": "5418804e-96ee-46ef-c0b6-9fc752d790ae"
      },
      "source": [
        "Z = np.linspace(0,1,11,endpoint=False)[1:]\n",
        "print(Z)"
      ],
      "id": "c89b93e7",
      "execution_count": null,
      "outputs": [
        {
          "output_type": "stream",
          "name": "stdout",
          "text": [
            "[0.09090909 0.18181818 0.27272727 0.36363636 0.45454545 0.54545455\n",
            " 0.63636364 0.72727273 0.81818182 0.90909091]\n"
          ]
        }
      ]
    },
    {
      "cell_type": "markdown",
      "metadata": {
        "id": "2d07be1c"
      },
      "source": [
        "#### 40. Create a random vector of size 10 and sort it (★★☆)"
      ],
      "id": "2d07be1c"
    },
    {
      "cell_type": "code",
      "metadata": {
        "id": "4f7cb3ad",
        "colab": {
          "base_uri": "https://localhost:8080/"
        },
        "outputId": "812edb79-c0c6-45c8-abf5-5ce0aa20d7b2"
      },
      "source": [
        "Z = np.random.random(10)\n",
        "Z.sort()\n",
        "print(Z)"
      ],
      "id": "4f7cb3ad",
      "execution_count": null,
      "outputs": [
        {
          "output_type": "stream",
          "name": "stdout",
          "text": [
            "[0.00696183 0.01395327 0.04853879 0.0705742  0.10039995 0.21185961\n",
            " 0.38943137 0.78023748 0.97834827 0.99971466]\n"
          ]
        }
      ]
    },
    {
      "cell_type": "markdown",
      "metadata": {
        "id": "6415f02e"
      },
      "source": [
        "#### 41. How to sum a small array faster than np.sum? (★★☆)"
      ],
      "id": "6415f02e"
    },
    {
      "cell_type": "code",
      "metadata": {
        "id": "bb0dd942",
        "colab": {
          "base_uri": "https://localhost:8080/"
        },
        "outputId": "152f1170-cbb9-4071-bf6d-e1c2b74f788d"
      },
      "source": [
        "Z = np.arange(10)\n",
        "np.add.reduce(Z)"
      ],
      "id": "bb0dd942",
      "execution_count": null,
      "outputs": [
        {
          "output_type": "execute_result",
          "data": {
            "text/plain": [
              "45"
            ]
          },
          "metadata": {},
          "execution_count": 12
        }
      ]
    },
    {
      "cell_type": "markdown",
      "metadata": {
        "id": "fe043549"
      },
      "source": [
        "#### 42. Consider two random array A and B, check if they are equal (★★☆)"
      ],
      "id": "fe043549"
    },
    {
      "cell_type": "code",
      "metadata": {
        "id": "3326a686",
        "colab": {
          "base_uri": "https://localhost:8080/"
        },
        "outputId": "dd1f7969-be13-4527-dca7-f74d414a89a3"
      },
      "source": [
        "A = np.random.randint(0,2,5)\n",
        "B = np.random.randint(0,2,5)\n",
        "\n",
        "equal = np.array_equal(A,B)\n",
        "print(equal)"
      ],
      "id": "3326a686",
      "execution_count": null,
      "outputs": [
        {
          "output_type": "stream",
          "name": "stdout",
          "text": [
            "False\n"
          ]
        }
      ]
    },
    {
      "cell_type": "markdown",
      "metadata": {
        "id": "cc08f71c"
      },
      "source": [
        "#### 43. Make an array immutable (read-only) (★★☆)"
      ],
      "id": "cc08f71c"
    },
    {
      "cell_type": "code",
      "metadata": {
        "id": "d5cc9dbe"
      },
      "source": [
        "Z = np.zeros(10)\n",
        "Z.flags.writeable = False"
      ],
      "id": "d5cc9dbe",
      "execution_count": null,
      "outputs": []
    },
    {
      "cell_type": "markdown",
      "metadata": {
        "id": "2002cb03"
      },
      "source": [
        "#### 44. Consider a random 10x2 matrix representing cartesian coordinates, convert them to polar coordinates (★★☆)"
      ],
      "id": "2002cb03"
    },
    {
      "cell_type": "code",
      "metadata": {
        "id": "58be72bc",
        "colab": {
          "base_uri": "https://localhost:8080/"
        },
        "outputId": "505e72e6-379e-4691-dc47-d312b6d9a6db"
      },
      "source": [
        "Z = np.random.random((10,2))\n",
        "X,Y = Z[:,0], Z[:,1]\n",
        "R = np.sqrt(X**2+Y**2)\n",
        "T = np.arctan2(Y,X)\n",
        "print(R)\n",
        "print(T)"
      ],
      "id": "58be72bc",
      "execution_count": null,
      "outputs": [
        {
          "output_type": "stream",
          "name": "stdout",
          "text": [
            "[0.95717801 0.93220336 0.40252372 0.96716415 0.97774871 0.50906247\n",
            " 0.67605039 0.56088086 0.59923498 1.10174533]\n",
            "[1.1649874  1.54776573 1.24996441 1.55281302 1.00231754 0.20388721\n",
            " 0.58487846 0.72328207 0.92849596 0.95712862]\n"
          ]
        }
      ]
    },
    {
      "cell_type": "markdown",
      "metadata": {
        "id": "b7109c9f"
      },
      "source": [
        "#### 45. Create random vector of size 10 and replace the maximum value by 0 (★★☆)"
      ],
      "id": "b7109c9f"
    },
    {
      "cell_type": "code",
      "metadata": {
        "id": "f79e79a7",
        "colab": {
          "base_uri": "https://localhost:8080/"
        },
        "outputId": "f9bd0bb9-a45a-4ca4-c43c-e4fe7bcb3506"
      },
      "source": [
        "Z = np.random.random(10)\n",
        "Z[Z.argmax()] = 0\n",
        "print(Z)"
      ],
      "id": "f79e79a7",
      "execution_count": null,
      "outputs": [
        {
          "output_type": "stream",
          "name": "stdout",
          "text": [
            "[0.66281416 0.         0.02159209 0.53498561 0.58040631 0.25920849\n",
            " 0.80242466 0.77575116 0.54424779 0.90715702]\n"
          ]
        }
      ]
    },
    {
      "cell_type": "markdown",
      "metadata": {
        "id": "7d3131b9"
      },
      "source": [
        "#### 46. Create a structured array with `x` and `y` coordinates covering the [0,1]x[0,1] area (★★☆)"
      ],
      "id": "7d3131b9"
    },
    {
      "cell_type": "code",
      "metadata": {
        "id": "4f471afe",
        "colab": {
          "base_uri": "https://localhost:8080/"
        },
        "outputId": "d76407f8-e005-4495-8c49-815c8931aa78"
      },
      "source": [
        "Z = np.zeros((5,5), [('x',float),('y',float)])\n",
        "Z['x'], Z['y'] = np.meshgrid(np.linspace(0,1,5),\n",
        "                             np.linspace(0,1,5))\n",
        "print(Z)"
      ],
      "id": "4f471afe",
      "execution_count": null,
      "outputs": [
        {
          "output_type": "stream",
          "name": "stdout",
          "text": [
            "[[(0.  , 0.  ) (0.25, 0.  ) (0.5 , 0.  ) (0.75, 0.  ) (1.  , 0.  )]\n",
            " [(0.  , 0.25) (0.25, 0.25) (0.5 , 0.25) (0.75, 0.25) (1.  , 0.25)]\n",
            " [(0.  , 0.5 ) (0.25, 0.5 ) (0.5 , 0.5 ) (0.75, 0.5 ) (1.  , 0.5 )]\n",
            " [(0.  , 0.75) (0.25, 0.75) (0.5 , 0.75) (0.75, 0.75) (1.  , 0.75)]\n",
            " [(0.  , 1.  ) (0.25, 1.  ) (0.5 , 1.  ) (0.75, 1.  ) (1.  , 1.  )]]\n"
          ]
        }
      ]
    },
    {
      "cell_type": "markdown",
      "metadata": {
        "id": "7c8c1fc5"
      },
      "source": [
        "#### 47. Given two arrays, X and Y, construct the Cauchy matrix C (Cij =1/(xi - yj)) (★★☆)"
      ],
      "id": "7c8c1fc5"
    },
    {
      "cell_type": "code",
      "metadata": {
        "id": "8fac7d28",
        "colab": {
          "base_uri": "https://localhost:8080/"
        },
        "outputId": "58329c37-45ca-4629-b194-7bc02645b994"
      },
      "source": [
        "X = np.arange(8)\n",
        "Y = X + 0.5\n",
        "C = 1.0 / np.subtract.outer(X, Y)\n",
        "print(np.linalg.det(C))"
      ],
      "id": "8fac7d28",
      "execution_count": null,
      "outputs": [
        {
          "output_type": "stream",
          "name": "stdout",
          "text": [
            "3638.163637117973\n"
          ]
        }
      ]
    },
    {
      "cell_type": "markdown",
      "metadata": {
        "id": "5795b4bd"
      },
      "source": [
        "#### 48. Print the minimum and maximum representable value for each numpy scalar type (★★☆)"
      ],
      "id": "5795b4bd"
    },
    {
      "cell_type": "code",
      "metadata": {
        "id": "b721f7ca",
        "colab": {
          "base_uri": "https://localhost:8080/"
        },
        "outputId": "f9b43c39-bb70-42d2-9161-a1c113a70b7f"
      },
      "source": [
        "for dtype in [np.int8, np.int32, np.int64]:\n",
        "   print(np.iinfo(dtype).min)\n",
        "   print(np.iinfo(dtype).max)\n",
        "for dtype in [np.float32, np.float64]:\n",
        "   print(np.finfo(dtype).min)\n",
        "   print(np.finfo(dtype).max)\n",
        "   print(np.finfo(dtype).eps)"
      ],
      "id": "b721f7ca",
      "execution_count": null,
      "outputs": [
        {
          "output_type": "stream",
          "name": "stdout",
          "text": [
            "-128\n",
            "127\n",
            "-2147483648\n",
            "2147483647\n",
            "-9223372036854775808\n",
            "9223372036854775807\n",
            "-3.4028235e+38\n",
            "3.4028235e+38\n",
            "1.1920929e-07\n",
            "-1.7976931348623157e+308\n",
            "1.7976931348623157e+308\n",
            "2.220446049250313e-16\n"
          ]
        }
      ]
    },
    {
      "cell_type": "markdown",
      "metadata": {
        "id": "fb24674c"
      },
      "source": [
        "#### 49. How to print all the values of an array? (★★☆)"
      ],
      "id": "fb24674c"
    },
    {
      "cell_type": "code",
      "metadata": {
        "id": "c81f1456",
        "colab": {
          "base_uri": "https://localhost:8080/"
        },
        "outputId": "5b099692-cb45-4cda-b1ce-058d59318143"
      },
      "source": [
        "np.set_printoptions(threshold=float(\"inf\"))\n",
        "Z = np.zeros((40,40))\n",
        "print(Z)"
      ],
      "id": "c81f1456",
      "execution_count": null,
      "outputs": [
        {
          "output_type": "stream",
          "name": "stdout",
          "text": [
            "[[0. 0. 0. 0. 0. 0. 0. 0. 0. 0. 0. 0. 0. 0. 0. 0. 0. 0. 0. 0. 0. 0. 0. 0.\n",
            "  0. 0. 0. 0. 0. 0. 0. 0. 0. 0. 0. 0. 0. 0. 0. 0.]\n",
            " [0. 0. 0. 0. 0. 0. 0. 0. 0. 0. 0. 0. 0. 0. 0. 0. 0. 0. 0. 0. 0. 0. 0. 0.\n",
            "  0. 0. 0. 0. 0. 0. 0. 0. 0. 0. 0. 0. 0. 0. 0. 0.]\n",
            " [0. 0. 0. 0. 0. 0. 0. 0. 0. 0. 0. 0. 0. 0. 0. 0. 0. 0. 0. 0. 0. 0. 0. 0.\n",
            "  0. 0. 0. 0. 0. 0. 0. 0. 0. 0. 0. 0. 0. 0. 0. 0.]\n",
            " [0. 0. 0. 0. 0. 0. 0. 0. 0. 0. 0. 0. 0. 0. 0. 0. 0. 0. 0. 0. 0. 0. 0. 0.\n",
            "  0. 0. 0. 0. 0. 0. 0. 0. 0. 0. 0. 0. 0. 0. 0. 0.]\n",
            " [0. 0. 0. 0. 0. 0. 0. 0. 0. 0. 0. 0. 0. 0. 0. 0. 0. 0. 0. 0. 0. 0. 0. 0.\n",
            "  0. 0. 0. 0. 0. 0. 0. 0. 0. 0. 0. 0. 0. 0. 0. 0.]\n",
            " [0. 0. 0. 0. 0. 0. 0. 0. 0. 0. 0. 0. 0. 0. 0. 0. 0. 0. 0. 0. 0. 0. 0. 0.\n",
            "  0. 0. 0. 0. 0. 0. 0. 0. 0. 0. 0. 0. 0. 0. 0. 0.]\n",
            " [0. 0. 0. 0. 0. 0. 0. 0. 0. 0. 0. 0. 0. 0. 0. 0. 0. 0. 0. 0. 0. 0. 0. 0.\n",
            "  0. 0. 0. 0. 0. 0. 0. 0. 0. 0. 0. 0. 0. 0. 0. 0.]\n",
            " [0. 0. 0. 0. 0. 0. 0. 0. 0. 0. 0. 0. 0. 0. 0. 0. 0. 0. 0. 0. 0. 0. 0. 0.\n",
            "  0. 0. 0. 0. 0. 0. 0. 0. 0. 0. 0. 0. 0. 0. 0. 0.]\n",
            " [0. 0. 0. 0. 0. 0. 0. 0. 0. 0. 0. 0. 0. 0. 0. 0. 0. 0. 0. 0. 0. 0. 0. 0.\n",
            "  0. 0. 0. 0. 0. 0. 0. 0. 0. 0. 0. 0. 0. 0. 0. 0.]\n",
            " [0. 0. 0. 0. 0. 0. 0. 0. 0. 0. 0. 0. 0. 0. 0. 0. 0. 0. 0. 0. 0. 0. 0. 0.\n",
            "  0. 0. 0. 0. 0. 0. 0. 0. 0. 0. 0. 0. 0. 0. 0. 0.]\n",
            " [0. 0. 0. 0. 0. 0. 0. 0. 0. 0. 0. 0. 0. 0. 0. 0. 0. 0. 0. 0. 0. 0. 0. 0.\n",
            "  0. 0. 0. 0. 0. 0. 0. 0. 0. 0. 0. 0. 0. 0. 0. 0.]\n",
            " [0. 0. 0. 0. 0. 0. 0. 0. 0. 0. 0. 0. 0. 0. 0. 0. 0. 0. 0. 0. 0. 0. 0. 0.\n",
            "  0. 0. 0. 0. 0. 0. 0. 0. 0. 0. 0. 0. 0. 0. 0. 0.]\n",
            " [0. 0. 0. 0. 0. 0. 0. 0. 0. 0. 0. 0. 0. 0. 0. 0. 0. 0. 0. 0. 0. 0. 0. 0.\n",
            "  0. 0. 0. 0. 0. 0. 0. 0. 0. 0. 0. 0. 0. 0. 0. 0.]\n",
            " [0. 0. 0. 0. 0. 0. 0. 0. 0. 0. 0. 0. 0. 0. 0. 0. 0. 0. 0. 0. 0. 0. 0. 0.\n",
            "  0. 0. 0. 0. 0. 0. 0. 0. 0. 0. 0. 0. 0. 0. 0. 0.]\n",
            " [0. 0. 0. 0. 0. 0. 0. 0. 0. 0. 0. 0. 0. 0. 0. 0. 0. 0. 0. 0. 0. 0. 0. 0.\n",
            "  0. 0. 0. 0. 0. 0. 0. 0. 0. 0. 0. 0. 0. 0. 0. 0.]\n",
            " [0. 0. 0. 0. 0. 0. 0. 0. 0. 0. 0. 0. 0. 0. 0. 0. 0. 0. 0. 0. 0. 0. 0. 0.\n",
            "  0. 0. 0. 0. 0. 0. 0. 0. 0. 0. 0. 0. 0. 0. 0. 0.]\n",
            " [0. 0. 0. 0. 0. 0. 0. 0. 0. 0. 0. 0. 0. 0. 0. 0. 0. 0. 0. 0. 0. 0. 0. 0.\n",
            "  0. 0. 0. 0. 0. 0. 0. 0. 0. 0. 0. 0. 0. 0. 0. 0.]\n",
            " [0. 0. 0. 0. 0. 0. 0. 0. 0. 0. 0. 0. 0. 0. 0. 0. 0. 0. 0. 0. 0. 0. 0. 0.\n",
            "  0. 0. 0. 0. 0. 0. 0. 0. 0. 0. 0. 0. 0. 0. 0. 0.]\n",
            " [0. 0. 0. 0. 0. 0. 0. 0. 0. 0. 0. 0. 0. 0. 0. 0. 0. 0. 0. 0. 0. 0. 0. 0.\n",
            "  0. 0. 0. 0. 0. 0. 0. 0. 0. 0. 0. 0. 0. 0. 0. 0.]\n",
            " [0. 0. 0. 0. 0. 0. 0. 0. 0. 0. 0. 0. 0. 0. 0. 0. 0. 0. 0. 0. 0. 0. 0. 0.\n",
            "  0. 0. 0. 0. 0. 0. 0. 0. 0. 0. 0. 0. 0. 0. 0. 0.]\n",
            " [0. 0. 0. 0. 0. 0. 0. 0. 0. 0. 0. 0. 0. 0. 0. 0. 0. 0. 0. 0. 0. 0. 0. 0.\n",
            "  0. 0. 0. 0. 0. 0. 0. 0. 0. 0. 0. 0. 0. 0. 0. 0.]\n",
            " [0. 0. 0. 0. 0. 0. 0. 0. 0. 0. 0. 0. 0. 0. 0. 0. 0. 0. 0. 0. 0. 0. 0. 0.\n",
            "  0. 0. 0. 0. 0. 0. 0. 0. 0. 0. 0. 0. 0. 0. 0. 0.]\n",
            " [0. 0. 0. 0. 0. 0. 0. 0. 0. 0. 0. 0. 0. 0. 0. 0. 0. 0. 0. 0. 0. 0. 0. 0.\n",
            "  0. 0. 0. 0. 0. 0. 0. 0. 0. 0. 0. 0. 0. 0. 0. 0.]\n",
            " [0. 0. 0. 0. 0. 0. 0. 0. 0. 0. 0. 0. 0. 0. 0. 0. 0. 0. 0. 0. 0. 0. 0. 0.\n",
            "  0. 0. 0. 0. 0. 0. 0. 0. 0. 0. 0. 0. 0. 0. 0. 0.]\n",
            " [0. 0. 0. 0. 0. 0. 0. 0. 0. 0. 0. 0. 0. 0. 0. 0. 0. 0. 0. 0. 0. 0. 0. 0.\n",
            "  0. 0. 0. 0. 0. 0. 0. 0. 0. 0. 0. 0. 0. 0. 0. 0.]\n",
            " [0. 0. 0. 0. 0. 0. 0. 0. 0. 0. 0. 0. 0. 0. 0. 0. 0. 0. 0. 0. 0. 0. 0. 0.\n",
            "  0. 0. 0. 0. 0. 0. 0. 0. 0. 0. 0. 0. 0. 0. 0. 0.]\n",
            " [0. 0. 0. 0. 0. 0. 0. 0. 0. 0. 0. 0. 0. 0. 0. 0. 0. 0. 0. 0. 0. 0. 0. 0.\n",
            "  0. 0. 0. 0. 0. 0. 0. 0. 0. 0. 0. 0. 0. 0. 0. 0.]\n",
            " [0. 0. 0. 0. 0. 0. 0. 0. 0. 0. 0. 0. 0. 0. 0. 0. 0. 0. 0. 0. 0. 0. 0. 0.\n",
            "  0. 0. 0. 0. 0. 0. 0. 0. 0. 0. 0. 0. 0. 0. 0. 0.]\n",
            " [0. 0. 0. 0. 0. 0. 0. 0. 0. 0. 0. 0. 0. 0. 0. 0. 0. 0. 0. 0. 0. 0. 0. 0.\n",
            "  0. 0. 0. 0. 0. 0. 0. 0. 0. 0. 0. 0. 0. 0. 0. 0.]\n",
            " [0. 0. 0. 0. 0. 0. 0. 0. 0. 0. 0. 0. 0. 0. 0. 0. 0. 0. 0. 0. 0. 0. 0. 0.\n",
            "  0. 0. 0. 0. 0. 0. 0. 0. 0. 0. 0. 0. 0. 0. 0. 0.]\n",
            " [0. 0. 0. 0. 0. 0. 0. 0. 0. 0. 0. 0. 0. 0. 0. 0. 0. 0. 0. 0. 0. 0. 0. 0.\n",
            "  0. 0. 0. 0. 0. 0. 0. 0. 0. 0. 0. 0. 0. 0. 0. 0.]\n",
            " [0. 0. 0. 0. 0. 0. 0. 0. 0. 0. 0. 0. 0. 0. 0. 0. 0. 0. 0. 0. 0. 0. 0. 0.\n",
            "  0. 0. 0. 0. 0. 0. 0. 0. 0. 0. 0. 0. 0. 0. 0. 0.]\n",
            " [0. 0. 0. 0. 0. 0. 0. 0. 0. 0. 0. 0. 0. 0. 0. 0. 0. 0. 0. 0. 0. 0. 0. 0.\n",
            "  0. 0. 0. 0. 0. 0. 0. 0. 0. 0. 0. 0. 0. 0. 0. 0.]\n",
            " [0. 0. 0. 0. 0. 0. 0. 0. 0. 0. 0. 0. 0. 0. 0. 0. 0. 0. 0. 0. 0. 0. 0. 0.\n",
            "  0. 0. 0. 0. 0. 0. 0. 0. 0. 0. 0. 0. 0. 0. 0. 0.]\n",
            " [0. 0. 0. 0. 0. 0. 0. 0. 0. 0. 0. 0. 0. 0. 0. 0. 0. 0. 0. 0. 0. 0. 0. 0.\n",
            "  0. 0. 0. 0. 0. 0. 0. 0. 0. 0. 0. 0. 0. 0. 0. 0.]\n",
            " [0. 0. 0. 0. 0. 0. 0. 0. 0. 0. 0. 0. 0. 0. 0. 0. 0. 0. 0. 0. 0. 0. 0. 0.\n",
            "  0. 0. 0. 0. 0. 0. 0. 0. 0. 0. 0. 0. 0. 0. 0. 0.]\n",
            " [0. 0. 0. 0. 0. 0. 0. 0. 0. 0. 0. 0. 0. 0. 0. 0. 0. 0. 0. 0. 0. 0. 0. 0.\n",
            "  0. 0. 0. 0. 0. 0. 0. 0. 0. 0. 0. 0. 0. 0. 0. 0.]\n",
            " [0. 0. 0. 0. 0. 0. 0. 0. 0. 0. 0. 0. 0. 0. 0. 0. 0. 0. 0. 0. 0. 0. 0. 0.\n",
            "  0. 0. 0. 0. 0. 0. 0. 0. 0. 0. 0. 0. 0. 0. 0. 0.]\n",
            " [0. 0. 0. 0. 0. 0. 0. 0. 0. 0. 0. 0. 0. 0. 0. 0. 0. 0. 0. 0. 0. 0. 0. 0.\n",
            "  0. 0. 0. 0. 0. 0. 0. 0. 0. 0. 0. 0. 0. 0. 0. 0.]\n",
            " [0. 0. 0. 0. 0. 0. 0. 0. 0. 0. 0. 0. 0. 0. 0. 0. 0. 0. 0. 0. 0. 0. 0. 0.\n",
            "  0. 0. 0. 0. 0. 0. 0. 0. 0. 0. 0. 0. 0. 0. 0. 0.]]\n"
          ]
        }
      ]
    },
    {
      "cell_type": "markdown",
      "metadata": {
        "id": "e6e1ae2f"
      },
      "source": [
        "#### 50. How to find the closest value (to a given scalar) in a vector? (★★☆)"
      ],
      "id": "e6e1ae2f"
    },
    {
      "cell_type": "code",
      "metadata": {
        "id": "73dd91cc",
        "colab": {
          "base_uri": "https://localhost:8080/"
        },
        "outputId": "07b70ea5-77b4-4462-eef9-74f84b9ddd80"
      },
      "source": [
        "Z = np.arange(100)\n",
        "v = np.random.uniform(0,100)\n",
        "index = (np.abs(Z-v)).argmin()\n",
        "print(Z[index])"
      ],
      "id": "73dd91cc",
      "execution_count": null,
      "outputs": [
        {
          "output_type": "stream",
          "name": "stdout",
          "text": [
            "86\n"
          ]
        }
      ]
    },
    {
      "cell_type": "markdown",
      "metadata": {
        "id": "c01f0ecf"
      },
      "source": [
        "#### 51. Create a structured array representing a position (x,y) and a color (r,g,b) (★★☆)"
      ],
      "id": "c01f0ecf"
    },
    {
      "cell_type": "code",
      "metadata": {
        "id": "fb8017ca",
        "colab": {
          "base_uri": "https://localhost:8080/"
        },
        "outputId": "5ccd9dc7-2fce-4a77-b8d4-4912fb7dbe63"
      },
      "source": [
        "Z = np.zeros(10, [ ('position', [ ('x', float, 1),\n",
        "                                  ('y', float, 1)]),\n",
        "                   ('color',    [ ('r', float, 1),\n",
        "                                  ('g', float, 1),\n",
        "                                  ('b', float, 1)])])\n",
        "print(Z)"
      ],
      "id": "fb8017ca",
      "execution_count": null,
      "outputs": [
        {
          "output_type": "stream",
          "name": "stdout",
          "text": [
            "[((0., 0.), (0., 0., 0.)) ((0., 0.), (0., 0., 0.))\n",
            " ((0., 0.), (0., 0., 0.)) ((0., 0.), (0., 0., 0.))\n",
            " ((0., 0.), (0., 0., 0.)) ((0., 0.), (0., 0., 0.))\n",
            " ((0., 0.), (0., 0., 0.)) ((0., 0.), (0., 0., 0.))\n",
            " ((0., 0.), (0., 0., 0.)) ((0., 0.), (0., 0., 0.))]\n"
          ]
        },
        {
          "output_type": "stream",
          "name": "stderr",
          "text": [
            "/usr/local/lib/python3.7/dist-packages/ipykernel_launcher.py:5: FutureWarning: Passing (type, 1) or '1type' as a synonym of type is deprecated; in a future version of numpy, it will be understood as (type, (1,)) / '(1,)type'.\n",
            "  \"\"\"\n"
          ]
        }
      ]
    },
    {
      "cell_type": "markdown",
      "metadata": {
        "id": "3b64a18b"
      },
      "source": [
        "#### 52. Consider a random vector with shape (100,2) representing coordinates, find point by point distances (★★☆)"
      ],
      "id": "3b64a18b"
    },
    {
      "cell_type": "code",
      "metadata": {
        "id": "4b482822",
        "colab": {
          "base_uri": "https://localhost:8080/"
        },
        "outputId": "c0a6c9e1-0f3d-4eac-a5e9-d0b0a9f15930"
      },
      "source": [
        "Z = np.random.random((10,2))\n",
        "X,Y = np.atleast_2d(Z[:,0], Z[:,1])\n",
        "D = np.sqrt( (X-X.T)**2 + (Y-Y.T)**2)\n",
        "print(D)"
      ],
      "id": "4b482822",
      "execution_count": null,
      "outputs": [
        {
          "output_type": "stream",
          "name": "stdout",
          "text": [
            "[[0.         0.51737953 0.2997577  0.5804766  0.37068846 0.16918624\n",
            "  0.2333195  0.56375967 0.46330321 0.78453914]\n",
            " [0.51737953 0.         0.65101578 0.48574951 0.16483801 0.51598563\n",
            "  0.75021875 0.28662351 0.27668004 0.34697568]\n",
            " [0.2997577  0.65101578 0.         0.86072343 0.55784607 0.468845\n",
            "  0.32239406 0.55056025 0.45853248 0.97828624]\n",
            " [0.5804766  0.48574951 0.86072343 0.         0.39495602 0.43830692\n",
            "  0.75740983 0.75452185 0.70589091 0.42553176]\n",
            " [0.37068846 0.16483801 0.55784607 0.39495602 0.         0.3516735\n",
            "  0.60336731 0.36884574 0.3112913  0.42473375]\n",
            " [0.16918624 0.51598563 0.468845   0.43830692 0.3516735  0.\n",
            "  0.32028926 0.64278201 0.5502076  0.71539545]\n",
            " [0.2333195  0.75021875 0.32239406 0.75740983 0.60336731 0.32028926\n",
            "  0.         0.76701488 0.66531454 1.01122613]\n",
            " [0.56375967 0.28662351 0.55056025 0.75452185 0.36884574 0.64278201\n",
            "  0.76701488 0.         0.10175223 0.60758003]\n",
            " [0.46330321 0.27668004 0.45853248 0.70589091 0.3112913  0.5502076\n",
            "  0.66531454 0.10175223 0.         0.62005873]\n",
            " [0.78453914 0.34697568 0.97828624 0.42553176 0.42473375 0.71539545\n",
            "  1.01122613 0.60758003 0.62005873 0.        ]]\n"
          ]
        }
      ]
    },
    {
      "cell_type": "markdown",
      "metadata": {
        "id": "48413134"
      },
      "source": [
        "#### 53. How to convert a float (32 bits) array into an integer (32 bits) in place?"
      ],
      "id": "48413134"
    },
    {
      "cell_type": "code",
      "metadata": {
        "id": "5db64b6d",
        "colab": {
          "base_uri": "https://localhost:8080/"
        },
        "outputId": "ba300eb1-d141-40ca-bf12-150481d7ff5c"
      },
      "source": [
        "Z = np.arange(10, dtype=np.int32)\n",
        "\n",
        "Z = Z.astype(np.float32, copy=False)\n",
        "\n",
        "print(Z)"
      ],
      "id": "5db64b6d",
      "execution_count": 2,
      "outputs": [
        {
          "output_type": "stream",
          "name": "stdout",
          "text": [
            "[0. 1. 2. 3. 4. 5. 6. 7. 8. 9.]\n"
          ]
        }
      ]
    },
    {
      "cell_type": "markdown",
      "metadata": {
        "id": "0a532633"
      },
      "source": [
        "#### 54. How to read the following file? (★★☆)\n",
        "```\n",
        "1, 2, 3, 4, 5\n",
        "6,  ,  , 7, 8\n",
        " ,  , 9,10,11\n",
        "```"
      ],
      "id": "0a532633"
    },
    {
      "cell_type": "code",
      "metadata": {
        "id": "8af4f753",
        "colab": {
          "base_uri": "https://localhost:8080/"
        },
        "outputId": "37a91b11-8c0d-4067-a2da-e5e3d3337fe6"
      },
      "source": [
        "from io import StringIO\n",
        "\n",
        "\n",
        "s = StringIO(\"\"\"1, 2, 3, 4, 5\\n\n",
        "\n",
        "6, , , 7, 8\\n\n",
        "\n",
        ", , 9,10,11\\n\"\"\")\n",
        "\n",
        "\n",
        "\n",
        "print(s)"
      ],
      "id": "8af4f753",
      "execution_count": 4,
      "outputs": [
        {
          "output_type": "stream",
          "name": "stdout",
          "text": [
            "<_io.StringIO object at 0x7fbe53d9a7d0>\n"
          ]
        }
      ]
    },
    {
      "cell_type": "markdown",
      "metadata": {
        "id": "f98713a6"
      },
      "source": [
        "#### 55. What is the equivalent of enumerate for numpy arrays? (★★☆)"
      ],
      "id": "f98713a6"
    },
    {
      "cell_type": "code",
      "metadata": {
        "id": "64795f84",
        "colab": {
          "base_uri": "https://localhost:8080/"
        },
        "outputId": "204a8451-ac01-4639-d1e2-9ac81b736f15"
      },
      "source": [
        "Z = np.arange(9).reshape(3,3)\n",
        "for index, value in np.ndenumerate(Z):\n",
        "    print(index, value)\n",
        "for index in np.ndindex(Z.shape):\n",
        "    print(index, Z[index])"
      ],
      "id": "64795f84",
      "execution_count": 6,
      "outputs": [
        {
          "output_type": "stream",
          "name": "stdout",
          "text": [
            "(0, 0) 0\n",
            "(0, 1) 1\n",
            "(0, 2) 2\n",
            "(1, 0) 3\n",
            "(1, 1) 4\n",
            "(1, 2) 5\n",
            "(2, 0) 6\n",
            "(2, 1) 7\n",
            "(2, 2) 8\n",
            "(0, 0) 0\n",
            "(0, 1) 1\n",
            "(0, 2) 2\n",
            "(1, 0) 3\n",
            "(1, 1) 4\n",
            "(1, 2) 5\n",
            "(2, 0) 6\n",
            "(2, 1) 7\n",
            "(2, 2) 8\n"
          ]
        }
      ]
    },
    {
      "cell_type": "markdown",
      "metadata": {
        "id": "1abc7cc8"
      },
      "source": [
        "#### 56. Generate a generic 2D Gaussian-like array (★★☆)"
      ],
      "id": "1abc7cc8"
    },
    {
      "cell_type": "code",
      "metadata": {
        "id": "42e3a5bc",
        "colab": {
          "base_uri": "https://localhost:8080/"
        },
        "outputId": "b766c2c8-2610-4b0e-8ce4-7f01d8934fc5"
      },
      "source": [
        "X, Y = np.meshgrid(np.linspace(-1,1,10), np.linspace(-1,1,10))\n",
        "D = np.sqrt(X*X+Y*Y)\n",
        "sigma, mu = 1.0, 0.0\n",
        "G = np.exp(-( (D-mu)**2 / ( 2.0 * sigma**2 ) ) )\n",
        "print(G)"
      ],
      "id": "42e3a5bc",
      "execution_count": 7,
      "outputs": [
        {
          "output_type": "stream",
          "name": "stdout",
          "text": [
            "[[0.36787944 0.44822088 0.51979489 0.57375342 0.60279818 0.60279818\n",
            "  0.57375342 0.51979489 0.44822088 0.36787944]\n",
            " [0.44822088 0.54610814 0.63331324 0.69905581 0.73444367 0.73444367\n",
            "  0.69905581 0.63331324 0.54610814 0.44822088]\n",
            " [0.51979489 0.63331324 0.73444367 0.81068432 0.85172308 0.85172308\n",
            "  0.81068432 0.73444367 0.63331324 0.51979489]\n",
            " [0.57375342 0.69905581 0.81068432 0.89483932 0.9401382  0.9401382\n",
            "  0.89483932 0.81068432 0.69905581 0.57375342]\n",
            " [0.60279818 0.73444367 0.85172308 0.9401382  0.98773022 0.98773022\n",
            "  0.9401382  0.85172308 0.73444367 0.60279818]\n",
            " [0.60279818 0.73444367 0.85172308 0.9401382  0.98773022 0.98773022\n",
            "  0.9401382  0.85172308 0.73444367 0.60279818]\n",
            " [0.57375342 0.69905581 0.81068432 0.89483932 0.9401382  0.9401382\n",
            "  0.89483932 0.81068432 0.69905581 0.57375342]\n",
            " [0.51979489 0.63331324 0.73444367 0.81068432 0.85172308 0.85172308\n",
            "  0.81068432 0.73444367 0.63331324 0.51979489]\n",
            " [0.44822088 0.54610814 0.63331324 0.69905581 0.73444367 0.73444367\n",
            "  0.69905581 0.63331324 0.54610814 0.44822088]\n",
            " [0.36787944 0.44822088 0.51979489 0.57375342 0.60279818 0.60279818\n",
            "  0.57375342 0.51979489 0.44822088 0.36787944]]\n"
          ]
        }
      ]
    },
    {
      "cell_type": "markdown",
      "metadata": {
        "id": "0cf413ee"
      },
      "source": [
        "#### 57. How to randomly place p elements in a 2D array? (★★☆)"
      ],
      "id": "0cf413ee"
    },
    {
      "cell_type": "code",
      "metadata": {
        "id": "dfc57e06",
        "colab": {
          "base_uri": "https://localhost:8080/"
        },
        "outputId": "27a13006-2d10-4d88-a4e4-7dabb0a96214"
      },
      "source": [
        "n = 10\n",
        "p = 3\n",
        "Z = np.zeros((n,n))\n",
        "np.put(Z, np.random.choice(range(n*n), p, replace=False),1)\n",
        "print(Z)"
      ],
      "id": "dfc57e06",
      "execution_count": 8,
      "outputs": [
        {
          "output_type": "stream",
          "name": "stdout",
          "text": [
            "[[0. 0. 0. 0. 0. 0. 0. 0. 0. 0.]\n",
            " [0. 0. 0. 0. 0. 0. 0. 0. 0. 0.]\n",
            " [0. 0. 0. 0. 0. 0. 0. 0. 0. 1.]\n",
            " [0. 0. 0. 0. 0. 0. 0. 0. 0. 1.]\n",
            " [0. 0. 0. 0. 0. 0. 0. 0. 0. 0.]\n",
            " [0. 0. 0. 0. 0. 0. 0. 0. 0. 0.]\n",
            " [0. 0. 0. 0. 0. 1. 0. 0. 0. 0.]\n",
            " [0. 0. 0. 0. 0. 0. 0. 0. 0. 0.]\n",
            " [0. 0. 0. 0. 0. 0. 0. 0. 0. 0.]\n",
            " [0. 0. 0. 0. 0. 0. 0. 0. 0. 0.]]\n"
          ]
        }
      ]
    },
    {
      "cell_type": "markdown",
      "metadata": {
        "id": "215b6acc"
      },
      "source": [
        "#### 58. Subtract the mean of each row of a matrix (★★☆)"
      ],
      "id": "215b6acc"
    },
    {
      "cell_type": "code",
      "metadata": {
        "id": "dd1adef4",
        "colab": {
          "base_uri": "https://localhost:8080/"
        },
        "outputId": "b4f64d6f-95d7-4d60-9a20-c2d0b498756d"
      },
      "source": [
        "X = np.random.rand(5, 10)\n",
        "\n",
        "Y = X - X.mean(axis=1, keepdims=True)\n",
        "\n",
        "Y = X - X.mean(axis=1).reshape(-1, 1)\n",
        "\n",
        "print(Y)"
      ],
      "id": "dd1adef4",
      "execution_count": 9,
      "outputs": [
        {
          "output_type": "stream",
          "name": "stdout",
          "text": [
            "[[-0.03615535  0.48603628  0.04299562  0.19575195 -0.24355812 -0.10611328\n",
            "   0.21755484 -0.31368973 -0.11368614 -0.12913607]\n",
            " [-0.56815015  0.39363021 -0.08411242 -0.16087148 -0.45404284  0.27179068\n",
            "   0.06835426  0.27692324  0.03538936  0.22108914]\n",
            " [-0.53103878  0.06792786 -0.03416366  0.34436987  0.21366957  0.37583656\n",
            "   0.27755586 -0.33845515  0.15532474 -0.53102687]\n",
            " [ 0.01942301 -0.51782816  0.31256842  0.16836232 -0.41711729 -0.11419169\n",
            "   0.13884923  0.290835    0.29503163 -0.17593247]\n",
            " [-0.17052091 -0.17754801 -0.10144071 -0.40218609  0.23441491  0.37185464\n",
            "  -0.3814266  -0.25249751  0.55458213  0.32476814]]\n"
          ]
        }
      ]
    },
    {
      "cell_type": "markdown",
      "metadata": {
        "id": "c0cf37e0"
      },
      "source": [
        "#### 59. How to sort an array by the nth column? (★★☆)"
      ],
      "id": "c0cf37e0"
    },
    {
      "cell_type": "code",
      "metadata": {
        "id": "9336ca5f",
        "colab": {
          "base_uri": "https://localhost:8080/"
        },
        "outputId": "05c6f863-2da4-4cf8-f637-29b449a9ec5a"
      },
      "source": [
        "Z = np.random.randint(0,10,(3,3))\n",
        "print(Z)\n",
        "print(Z[Z[:,1].argsort()])"
      ],
      "id": "9336ca5f",
      "execution_count": 10,
      "outputs": [
        {
          "output_type": "stream",
          "name": "stdout",
          "text": [
            "[[2 1 6]\n",
            " [4 1 4]\n",
            " [3 0 5]]\n",
            "[[3 0 5]\n",
            " [2 1 6]\n",
            " [4 1 4]]\n"
          ]
        }
      ]
    },
    {
      "cell_type": "markdown",
      "metadata": {
        "id": "c17fb213"
      },
      "source": [
        "#### 60. How to tell if a given 2D array has null columns? (★★☆)"
      ],
      "id": "c17fb213"
    },
    {
      "cell_type": "code",
      "metadata": {
        "id": "7fdda78d",
        "colab": {
          "base_uri": "https://localhost:8080/"
        },
        "outputId": "e64a2a29-cb1b-4537-e7b4-ef4b76f0254f"
      },
      "source": [
        "Z = np.random.randint(0,3,(3,10))\n",
        "print((~Z.any(axis=0)).any())"
      ],
      "id": "7fdda78d",
      "execution_count": 11,
      "outputs": [
        {
          "output_type": "stream",
          "name": "stdout",
          "text": [
            "False\n"
          ]
        }
      ]
    },
    {
      "cell_type": "markdown",
      "metadata": {
        "id": "8aaab886"
      },
      "source": [
        "#### 61. Find the nearest value from a given value in an array (★★☆)"
      ],
      "id": "8aaab886"
    },
    {
      "cell_type": "code",
      "metadata": {
        "id": "973f8079",
        "colab": {
          "base_uri": "https://localhost:8080/"
        },
        "outputId": "5bb5a037-6e1a-4ff5-cd66-959452290c4a"
      },
      "source": [
        "Z = np.random.uniform(0,1,10)\n",
        "z = 0.5\n",
        "m = Z.flat[np.abs(Z - z).argmin()]\n",
        "print(m)"
      ],
      "id": "973f8079",
      "execution_count": 12,
      "outputs": [
        {
          "output_type": "stream",
          "name": "stdout",
          "text": [
            "0.5321849716957078\n"
          ]
        }
      ]
    },
    {
      "cell_type": "markdown",
      "metadata": {
        "id": "66a04e2e"
      },
      "source": [
        "#### 62. Considering two arrays with shape (1,3) and (3,1), how to compute their sum using an iterator? (★★☆)"
      ],
      "id": "66a04e2e"
    },
    {
      "cell_type": "code",
      "metadata": {
        "id": "4b356632",
        "colab": {
          "base_uri": "https://localhost:8080/"
        },
        "outputId": "bc6c2d62-3a6e-42ca-bb86-20cbc0a7f3e3"
      },
      "source": [
        "A = np.arange(3).reshape(3,1)\n",
        "B = np.arange(3).reshape(1,3)\n",
        "it = np.nditer([A,B,None])\n",
        "for x,y,z in it: z[...] = x + y\n",
        "print(it.operands[2])"
      ],
      "id": "4b356632",
      "execution_count": 13,
      "outputs": [
        {
          "output_type": "stream",
          "name": "stdout",
          "text": [
            "[[0 1 2]\n",
            " [1 2 3]\n",
            " [2 3 4]]\n"
          ]
        }
      ]
    },
    {
      "cell_type": "markdown",
      "metadata": {
        "id": "f4427f7f"
      },
      "source": [
        "#### 63. Create an array class that has a name attribute (★★☆)"
      ],
      "id": "f4427f7f"
    },
    {
      "cell_type": "code",
      "metadata": {
        "id": "fe253212",
        "colab": {
          "base_uri": "https://localhost:8080/"
        },
        "outputId": "ac7f370b-0eac-4771-f6aa-21d8c250469e"
      },
      "source": [
        "class NamedArray(np.ndarray):\n",
        "    def __new__(cls, array, name=\"no name\"):\n",
        "        obj = np.asarray(array).view(cls)\n",
        "        obj.name = name\n",
        "        return obj\n",
        "    def __array_finalize__(self, obj):\n",
        "        if obj is None: return\n",
        "        self.info = getattr(obj, 'name', \"no name\")\n",
        "\n",
        "Z = NamedArray(np.arange(10), \"range_10\")\n",
        "print (Z.name)"
      ],
      "id": "fe253212",
      "execution_count": 14,
      "outputs": [
        {
          "output_type": "stream",
          "name": "stdout",
          "text": [
            "range_10\n"
          ]
        }
      ]
    },
    {
      "cell_type": "markdown",
      "metadata": {
        "id": "58be9dd4"
      },
      "source": [
        "#### 64. Consider a given vector, how to add 1 to each element indexed by a second vector (be careful with repeated indices)? (★★★)"
      ],
      "id": "58be9dd4"
    },
    {
      "cell_type": "code",
      "metadata": {
        "id": "5c8bae42",
        "colab": {
          "base_uri": "https://localhost:8080/"
        },
        "outputId": "37b3ec62-ad2b-4422-92af-4d06f3faac94"
      },
      "source": [
        "Z = np.ones(10)\n",
        "I = np.random.randint(0,len(Z),20)\n",
        "Z += np.bincount(I, minlength=len(Z))\n",
        "print(Z)\n",
        "\n",
        "np.add.at(Z, I, 1)\n",
        "print(Z)"
      ],
      "id": "5c8bae42",
      "execution_count": 15,
      "outputs": [
        {
          "output_type": "stream",
          "name": "stdout",
          "text": [
            "[3. 4. 3. 2. 2. 2. 3. 6. 3. 2.]\n",
            "[ 5.  7.  5.  3.  3.  3.  5. 11.  5.  3.]\n"
          ]
        }
      ]
    },
    {
      "cell_type": "markdown",
      "metadata": {
        "id": "7348abd0"
      },
      "source": [
        "#### 65. How to accumulate elements of a vector (X) to an array (F) based on an index list (I)? (★★★)"
      ],
      "id": "7348abd0"
    },
    {
      "cell_type": "code",
      "metadata": {
        "id": "b3e33a5a",
        "colab": {
          "base_uri": "https://localhost:8080/"
        },
        "outputId": "73df4f56-508c-444b-cfb1-d31694e08342"
      },
      "source": [
        "X = [1,2,3,4,5,6]\n",
        "I = [1,3,9,3,4,1]\n",
        "F = np.bincount(I,X)\n",
        "print(F)"
      ],
      "id": "b3e33a5a",
      "execution_count": 16,
      "outputs": [
        {
          "output_type": "stream",
          "name": "stdout",
          "text": [
            "[0. 7. 0. 6. 5. 0. 0. 0. 0. 3.]\n"
          ]
        }
      ]
    },
    {
      "cell_type": "markdown",
      "metadata": {
        "id": "538e651c"
      },
      "source": [
        "#### 66. Considering a (w,h,3) image of (dtype=ubyte), compute the number of unique colors (★★☆)"
      ],
      "id": "538e651c"
    },
    {
      "cell_type": "code",
      "metadata": {
        "id": "57f2f02f",
        "colab": {
          "base_uri": "https://localhost:8080/"
        },
        "outputId": "1a25adab-361c-43b8-b452-5dad2d6dec55"
      },
      "source": [
        "w, h = 256, 256\n",
        "I = np.random.randint(0, 4, (h, w, 3)).astype(np.ubyte)\n",
        "colors = np.unique(I.reshape(-1, 3), axis=0)\n",
        "n = len(colors)\n",
        "print(n)"
      ],
      "id": "57f2f02f",
      "execution_count": 17,
      "outputs": [
        {
          "output_type": "stream",
          "name": "stdout",
          "text": [
            "64\n"
          ]
        }
      ]
    },
    {
      "cell_type": "markdown",
      "metadata": {
        "id": "33c986d9"
      },
      "source": [
        "#### 67. Considering a four dimensions array, how to get sum over the last two axis at once? (★★★)"
      ],
      "id": "33c986d9"
    },
    {
      "cell_type": "code",
      "metadata": {
        "id": "a99a50e2"
      },
      "source": [
        ""
      ],
      "id": "a99a50e2",
      "execution_count": null,
      "outputs": []
    },
    {
      "cell_type": "markdown",
      "metadata": {
        "id": "00eb27c4"
      },
      "source": [
        "#### 68. Considering a one-dimensional vector D, how to compute means of subsets of D using a vector S of same size describing subset  indices? (★★★)"
      ],
      "id": "00eb27c4"
    },
    {
      "cell_type": "code",
      "metadata": {
        "id": "d48c5210"
      },
      "source": [
        ""
      ],
      "id": "d48c5210",
      "execution_count": null,
      "outputs": []
    },
    {
      "cell_type": "markdown",
      "metadata": {
        "id": "928a1a15"
      },
      "source": [
        "#### 69. How to get the diagonal of a dot product? (★★★)"
      ],
      "id": "928a1a15"
    },
    {
      "cell_type": "code",
      "metadata": {
        "id": "ef2c9ddd"
      },
      "source": [
        ""
      ],
      "id": "ef2c9ddd",
      "execution_count": null,
      "outputs": []
    },
    {
      "cell_type": "markdown",
      "metadata": {
        "id": "5143f7f3"
      },
      "source": [
        "#### 70. Consider the vector [1, 2, 3, 4, 5], how to build a new vector with 3 consecutive zeros interleaved between each value? (★★★)"
      ],
      "id": "5143f7f3"
    },
    {
      "cell_type": "code",
      "metadata": {
        "id": "1d99a1c1"
      },
      "source": [
        ""
      ],
      "id": "1d99a1c1",
      "execution_count": null,
      "outputs": []
    },
    {
      "cell_type": "markdown",
      "metadata": {
        "id": "f62551d8"
      },
      "source": [
        "#### 71. Consider an array of dimension (5,5,3), how to mulitply it by an array with dimensions (5,5)? (★★★)"
      ],
      "id": "f62551d8"
    },
    {
      "cell_type": "code",
      "metadata": {
        "id": "9ab241b7"
      },
      "source": [
        ""
      ],
      "id": "9ab241b7",
      "execution_count": null,
      "outputs": []
    },
    {
      "cell_type": "markdown",
      "metadata": {
        "id": "6896e326"
      },
      "source": [
        "#### 72. How to swap two rows of an array? (★★★)"
      ],
      "id": "6896e326"
    },
    {
      "cell_type": "code",
      "metadata": {
        "id": "9e8fcba9"
      },
      "source": [
        ""
      ],
      "id": "9e8fcba9",
      "execution_count": null,
      "outputs": []
    },
    {
      "cell_type": "markdown",
      "metadata": {
        "id": "aeaf4a7b"
      },
      "source": [
        "#### 73. Consider a set of 10 triplets describing 10 triangles (with shared vertices), find the set of unique line segments composing all the  triangles (★★★)"
      ],
      "id": "aeaf4a7b"
    },
    {
      "cell_type": "code",
      "metadata": {
        "id": "39ef4234"
      },
      "source": [
        ""
      ],
      "id": "39ef4234",
      "execution_count": null,
      "outputs": []
    },
    {
      "cell_type": "markdown",
      "metadata": {
        "id": "3d11451b"
      },
      "source": [
        "#### 74. Given a sorted array C that corresponds to a bincount, how to produce an array A such that np.bincount(A) == C? (★★★)"
      ],
      "id": "3d11451b"
    },
    {
      "cell_type": "code",
      "metadata": {
        "id": "a5563362"
      },
      "source": [
        ""
      ],
      "id": "a5563362",
      "execution_count": null,
      "outputs": []
    },
    {
      "cell_type": "markdown",
      "metadata": {
        "id": "a0a45995"
      },
      "source": [
        "#### 75. How to compute averages using a sliding window over an array? (★★★)"
      ],
      "id": "a0a45995"
    },
    {
      "cell_type": "code",
      "metadata": {
        "id": "116243d5"
      },
      "source": [
        ""
      ],
      "id": "116243d5",
      "execution_count": null,
      "outputs": []
    },
    {
      "cell_type": "markdown",
      "metadata": {
        "id": "7808578f"
      },
      "source": [
        "#### 76. Consider a one-dimensional array Z, build a two-dimensional array whose first row is (Z[0],Z[1],Z[2]) and each subsequent row is  shifted by 1 (last row should be (Z[-3],Z[-2],Z[-1]) (★★★)"
      ],
      "id": "7808578f"
    },
    {
      "cell_type": "code",
      "metadata": {
        "id": "6b23ba6e"
      },
      "source": [
        ""
      ],
      "id": "6b23ba6e",
      "execution_count": null,
      "outputs": []
    },
    {
      "cell_type": "markdown",
      "metadata": {
        "id": "8e83df46"
      },
      "source": [
        "#### 77. How to negate a boolean, or to change the sign of a float inplace? (★★★)"
      ],
      "id": "8e83df46"
    },
    {
      "cell_type": "code",
      "metadata": {
        "id": "f73127b7"
      },
      "source": [
        ""
      ],
      "id": "f73127b7",
      "execution_count": null,
      "outputs": []
    },
    {
      "cell_type": "markdown",
      "metadata": {
        "id": "e67ff31c"
      },
      "source": [
        "#### 78. Consider 2 sets of points P0,P1 describing lines (2d) and a point p, how to compute distance from p to each line i (P0[i],P1[i])? (★★★)"
      ],
      "id": "e67ff31c"
    },
    {
      "cell_type": "code",
      "metadata": {
        "id": "89d75b76"
      },
      "source": [
        ""
      ],
      "id": "89d75b76",
      "execution_count": null,
      "outputs": []
    },
    {
      "cell_type": "markdown",
      "metadata": {
        "id": "ad8821b1"
      },
      "source": [
        "#### 79. Consider 2 sets of points P0,P1 describing lines (2d) and a set of points P, how to compute distance from each point j (P[j]) to each line i (P0[i],P1[i])? (★★★)"
      ],
      "id": "ad8821b1"
    },
    {
      "cell_type": "code",
      "metadata": {
        "id": "775feca0"
      },
      "source": [
        ""
      ],
      "id": "775feca0",
      "execution_count": null,
      "outputs": []
    },
    {
      "cell_type": "markdown",
      "metadata": {
        "id": "a0c8cbf5"
      },
      "source": [
        "#### 80. Consider an arbitrary array, write a function that extract a subpart with a fixed shape and centered on a given element (pad with a `fill` value when necessary) (★★★)"
      ],
      "id": "a0c8cbf5"
    },
    {
      "cell_type": "code",
      "metadata": {
        "id": "381fd926"
      },
      "source": [
        ""
      ],
      "id": "381fd926",
      "execution_count": null,
      "outputs": []
    },
    {
      "cell_type": "markdown",
      "metadata": {
        "id": "781fa236"
      },
      "source": [
        "#### 81. Consider an array Z = [1,2,3,4,5,6,7,8,9,10,11,12,13,14], how to generate an array R = [[1,2,3,4], [2,3,4,5], [3,4,5,6], ..., [11,12,13,14]]? (★★★)"
      ],
      "id": "781fa236"
    },
    {
      "cell_type": "code",
      "metadata": {
        "id": "8e84d3c2"
      },
      "source": [
        ""
      ],
      "id": "8e84d3c2",
      "execution_count": null,
      "outputs": []
    },
    {
      "cell_type": "markdown",
      "metadata": {
        "id": "9c9bb0f3"
      },
      "source": [
        "#### 82. Compute a matrix rank (★★★)"
      ],
      "id": "9c9bb0f3"
    },
    {
      "cell_type": "code",
      "metadata": {
        "id": "b75ef318"
      },
      "source": [
        ""
      ],
      "id": "b75ef318",
      "execution_count": null,
      "outputs": []
    },
    {
      "cell_type": "markdown",
      "metadata": {
        "id": "7d8dc135"
      },
      "source": [
        "#### 83. How to find the most frequent value in an array?"
      ],
      "id": "7d8dc135"
    },
    {
      "cell_type": "code",
      "metadata": {
        "id": "3978a7a2"
      },
      "source": [
        ""
      ],
      "id": "3978a7a2",
      "execution_count": null,
      "outputs": []
    },
    {
      "cell_type": "markdown",
      "metadata": {
        "id": "aa340126"
      },
      "source": [
        "#### 84. Extract all the contiguous 3x3 blocks from a random 10x10 matrix (★★★)"
      ],
      "id": "aa340126"
    },
    {
      "cell_type": "code",
      "metadata": {
        "id": "bf138783"
      },
      "source": [
        ""
      ],
      "id": "bf138783",
      "execution_count": null,
      "outputs": []
    },
    {
      "cell_type": "markdown",
      "metadata": {
        "id": "6b6d2c84"
      },
      "source": [
        "#### 85. Create a 2D array subclass such that Z[i,j] == Z[j,i] (★★★)"
      ],
      "id": "6b6d2c84"
    },
    {
      "cell_type": "code",
      "metadata": {
        "id": "155e16ce"
      },
      "source": [
        ""
      ],
      "id": "155e16ce",
      "execution_count": null,
      "outputs": []
    },
    {
      "cell_type": "markdown",
      "metadata": {
        "id": "7be0fe36"
      },
      "source": [
        "#### 86. Consider a set of p matrices wich shape (n,n) and a set of p vectors with shape (n,1). How to compute the sum of of the p matrix products at once? (result has shape (n,1)) (★★★)"
      ],
      "id": "7be0fe36"
    },
    {
      "cell_type": "code",
      "metadata": {
        "id": "ea732c23"
      },
      "source": [
        ""
      ],
      "id": "ea732c23",
      "execution_count": null,
      "outputs": []
    },
    {
      "cell_type": "markdown",
      "metadata": {
        "id": "a840a88f"
      },
      "source": [
        "#### 87. Consider a 16x16 array, how to get the block-sum (block size is 4x4)? (★★★)"
      ],
      "id": "a840a88f"
    },
    {
      "cell_type": "code",
      "metadata": {
        "id": "6e0c1cbe"
      },
      "source": [
        ""
      ],
      "id": "6e0c1cbe",
      "execution_count": null,
      "outputs": []
    },
    {
      "cell_type": "markdown",
      "metadata": {
        "id": "c2bd7385"
      },
      "source": [
        "#### 88. How to implement the Game of Life using numpy arrays? (★★★)"
      ],
      "id": "c2bd7385"
    },
    {
      "cell_type": "code",
      "metadata": {
        "id": "aea7d805"
      },
      "source": [
        ""
      ],
      "id": "aea7d805",
      "execution_count": null,
      "outputs": []
    },
    {
      "cell_type": "markdown",
      "metadata": {
        "id": "4c70397b"
      },
      "source": [
        "#### 89. How to get the n largest values of an array (★★★)"
      ],
      "id": "4c70397b"
    },
    {
      "cell_type": "code",
      "metadata": {
        "id": "16371718"
      },
      "source": [
        ""
      ],
      "id": "16371718",
      "execution_count": null,
      "outputs": []
    },
    {
      "cell_type": "markdown",
      "metadata": {
        "id": "15ba193c"
      },
      "source": [
        "#### 90. Given an arbitrary number of vectors, build the cartesian product (every combinations of every item) (★★★)"
      ],
      "id": "15ba193c"
    },
    {
      "cell_type": "code",
      "metadata": {
        "id": "c9c468d4"
      },
      "source": [
        ""
      ],
      "id": "c9c468d4",
      "execution_count": null,
      "outputs": []
    },
    {
      "cell_type": "markdown",
      "metadata": {
        "id": "ec828405"
      },
      "source": [
        "#### 91. How to create a record array from a regular array? (★★★)"
      ],
      "id": "ec828405"
    },
    {
      "cell_type": "code",
      "metadata": {
        "id": "84eb5fba"
      },
      "source": [
        ""
      ],
      "id": "84eb5fba",
      "execution_count": null,
      "outputs": []
    },
    {
      "cell_type": "markdown",
      "metadata": {
        "id": "d94352b6"
      },
      "source": [
        "#### 92. Consider a large vector Z, compute Z to the power of 3 using 3 different methods (★★★)"
      ],
      "id": "d94352b6"
    },
    {
      "cell_type": "code",
      "metadata": {
        "id": "301ba8a8"
      },
      "source": [
        ""
      ],
      "id": "301ba8a8",
      "execution_count": null,
      "outputs": []
    },
    {
      "cell_type": "markdown",
      "metadata": {
        "id": "7c3a9e32"
      },
      "source": [
        "#### 93. Consider two arrays A and B of shape (8,3) and (2,2). How to find rows of A that contain elements of each row of B regardless of the order of the elements in B? (★★★)"
      ],
      "id": "7c3a9e32"
    },
    {
      "cell_type": "code",
      "metadata": {
        "id": "777376e3"
      },
      "source": [
        ""
      ],
      "id": "777376e3",
      "execution_count": null,
      "outputs": []
    },
    {
      "cell_type": "markdown",
      "metadata": {
        "id": "da9d5eeb"
      },
      "source": [
        "#### 94. Considering a 10x3 matrix, extract rows with unequal values (e.g. [2,2,3]) (★★★)"
      ],
      "id": "da9d5eeb"
    },
    {
      "cell_type": "code",
      "metadata": {
        "id": "67dbea5c"
      },
      "source": [
        ""
      ],
      "id": "67dbea5c",
      "execution_count": null,
      "outputs": []
    },
    {
      "cell_type": "markdown",
      "metadata": {
        "id": "f7b65fd5"
      },
      "source": [
        "#### 95. Convert a vector of ints into a matrix binary representation (★★★)"
      ],
      "id": "f7b65fd5"
    },
    {
      "cell_type": "code",
      "metadata": {
        "id": "127294ed"
      },
      "source": [
        ""
      ],
      "id": "127294ed",
      "execution_count": null,
      "outputs": []
    },
    {
      "cell_type": "markdown",
      "metadata": {
        "id": "2784c996"
      },
      "source": [
        "#### 96. Given a two dimensional array, how to extract unique rows? (★★★)"
      ],
      "id": "2784c996"
    },
    {
      "cell_type": "code",
      "metadata": {
        "id": "f030595f"
      },
      "source": [
        ""
      ],
      "id": "f030595f",
      "execution_count": null,
      "outputs": []
    },
    {
      "cell_type": "markdown",
      "metadata": {
        "id": "71a7574c"
      },
      "source": [
        "#### 97. Considering 2 vectors A & B, write the einsum equivalent of inner, outer, sum, and mul function (★★★)"
      ],
      "id": "71a7574c"
    },
    {
      "cell_type": "code",
      "metadata": {
        "id": "721c4e1a"
      },
      "source": [
        ""
      ],
      "id": "721c4e1a",
      "execution_count": null,
      "outputs": []
    },
    {
      "cell_type": "markdown",
      "metadata": {
        "id": "30f06441"
      },
      "source": [
        "#### 98. Considering a path described by two vectors (X,Y), how to sample it using equidistant samples (★★★)?"
      ],
      "id": "30f06441"
    },
    {
      "cell_type": "code",
      "metadata": {
        "id": "fb41c022"
      },
      "source": [
        ""
      ],
      "id": "fb41c022",
      "execution_count": null,
      "outputs": []
    },
    {
      "cell_type": "markdown",
      "metadata": {
        "id": "e5737276"
      },
      "source": [
        "#### 99. Given an integer n and a 2D array X, select from X the rows which can be interpreted as draws from a multinomial distribution with n degrees, i.e., the rows which only contain integers and which sum to n. (★★★)"
      ],
      "id": "e5737276"
    },
    {
      "cell_type": "code",
      "metadata": {
        "id": "68c333b0"
      },
      "source": [
        ""
      ],
      "id": "68c333b0",
      "execution_count": null,
      "outputs": []
    },
    {
      "cell_type": "markdown",
      "metadata": {
        "id": "5882e36d"
      },
      "source": [
        "#### 100. Compute bootstrapped 95% confidence intervals for the mean of a 1D array X (i.e., resample the elements of an array with replacement N times, compute the mean of each sample, and then compute percentiles over the means). (★★★)"
      ],
      "id": "5882e36d"
    },
    {
      "cell_type": "code",
      "metadata": {
        "id": "d1b566e5"
      },
      "source": [
        ""
      ],
      "id": "d1b566e5",
      "execution_count": null,
      "outputs": []
    }
  ]
}